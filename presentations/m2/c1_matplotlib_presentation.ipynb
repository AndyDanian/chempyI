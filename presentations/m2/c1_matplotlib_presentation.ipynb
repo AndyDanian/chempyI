{
 "cells": [
  {
   "cell_type": "markdown",
   "id": "d5aff956",
   "metadata": {
    "slideshow": {
     "slide_type": "slide"
    }
   },
   "source": [
    "<!DOCTYPE html>\n",
    "<html>\n",
    "<body style=\"background-color:linear-gradient(to bottom,  #66ff99 0%, #ff99cc 100%);\">\n",
    "    \n",
    "<center><h1 style=\"color: #87CEEB;\" > 📉 <strong>Matplotlib</strong> 📊 </h1></center>\n",
    "\n",
    "<ul>\n",
    "<li><h2>Wave page: <a href=\"https://matplotlib.org/\">https://matplotlib.org/</a> </h2><br></li>\n",
    "<li><h2>Install:</h2></li>\n",
    "    <ul>\n",
    "    <li> <h2><strong>pip:</strong></h2>\n",
    "        <h3>&#36; pip install matplotlib</h3>\n",
    "        </li>\n",
    "    <li><h2><strong>conda:</strong></h2> \n",
    "        <h3>&#36; conda install -c conda-forge matplotlib</h3>\n",
    "        </li>\n",
    "    </ul>\n",
    "</ul>\n",
    "\n",
    "</body>\n",
    "</html>"
   ]
  }
 ],
 "metadata": {
  "celltoolbar": "Slideshow",
  "kernelspec": {
   "display_name": "Python 3 (ipykernel)",
   "language": "python",
   "name": "python3"
  },
  "language_info": {
   "codemirror_mode": {
    "name": "ipython",
    "version": 3
   },
   "file_extension": ".py",
   "mimetype": "text/x-python",
   "name": "python",
   "nbconvert_exporter": "python",
   "pygments_lexer": "ipython3",
   "version": "3.10.12"
  },
  "rise": {
   "scroll": true,
   "start_slideshow_at": "beginning"
  }
 },
 "nbformat": 4,
 "nbformat_minor": 5
}
