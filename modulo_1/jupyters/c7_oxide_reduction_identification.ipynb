{
 "cells": [
  {
   "cell_type": "markdown",
   "metadata": {},
   "source": [
    "# Module 1 - Problem 7: Oxide-Reduction Identification\n",
    "\n",
    "Indetify the substances that is oxidized from the reduced of a reaction with two reactives and two products.\n",
    "Moreover, the oxidation number of the same atom in the both reactives or products should be equal. This program\n",
    "can also calculate the oxidation number of one atom in a molecule\n",
    "\n",
    "    * Input reactants and products with their charges\n",
    "    * Input oxidation numbers\n",
    "        * Calculate of oxidation number\n",
    "    * Electronic movement\n",
    "    * Classify the substance in reducing and oxidizing agents\n",
    "\n",
    "Notes:\n",
    "\n",
    "    * Oxidation number: is a virtual charge belong to an atom whether every bonds are ionic\n",
    "        * An atom of free element has an oxidation number equal to 0, example, each atom in Cl2\n",
    "        * An monoatomic ion has an oxidation number equal to the charge\n",
    "        * Alkali metals in a molecule always have an oxidation number equal to 1\n",
    "        * Alkali earth metals in a molecule always have an oxidation number equal to 2\n",
    "        * Fluorine in compounds has an oxidation number equal to -1\n",
    "        * Hydrogen in compoinds has an oxidation number equal to 1 except in molecules with\n",
    "          metals because in these substances its oxidation number equal to -1, example, NaH\n",
    "        * Oxygen atom has an oxidation number equal to -2 except in the peroxide because \n",
    "          in this substance its oxidation number is equal to -1\n",
    "        * Other halogens have an oxidation number equal to -1 but in molecules with oxygen\n",
    "          or fluorine its oxidation number change, example, ClO4- the Cl is 7"
   ]
  },
  {
   "cell_type": "code",
   "execution_count": 8,
   "metadata": {},
   "outputs": [],
   "source": [
    "from sys import path\n",
    "\n",
    "path.append(\"../../src/m1\")\n",
    "\n",
    "from atomic_mass_percentage import split_symbols_amount"
   ]
  },
  {
   "cell_type": "code",
   "execution_count": 7,
   "metadata": {},
   "outputs": [],
   "source": [
    "def input_substance() -> [str, int]:\n",
    "    reactive_a: str = input(\"what is the first reactive?\")\n",
    "    r_charge_a: int = int(input(f\"what is the charge of the {reactive_a}?\"))\n",
    "\n",
    "    reactive_b: str = input(\"what is the second reactive?\")\n",
    "    r_charge_b: int = int(input(f\"what is the charge of the {reactive_b}?\"))\n",
    "\n",
    "    product_a: str = input(\"what is the first product?\")\n",
    "    p_charge_a: int = int(input(f\"what is the charge of the {product_a}?\"))\n",
    "\n",
    "    product_b: str = input(\"what is the second product?\")\n",
    "    p_charge_b: int = int(input(f\"what is the charge of the {product_b}?\"))\n",
    "\n",
    "    return (\n",
    "        reactive_a,\n",
    "        r_charge_a,\n",
    "        reactive_b,\n",
    "        r_charge_b,\n",
    "        product_a,\n",
    "        p_charge_a,\n",
    "        product_b,\n",
    "        p_charge_b,\n",
    "    )"
   ]
  },
  {
   "cell_type": "code",
   "execution_count": 18,
   "metadata": {},
   "outputs": [],
   "source": [
    "def molecule_composition(molecule: list) -> dict[str : int]:\n",
    "    for m in molecule:\n",
    "        yield split_symbols_amount(m)"
   ]
  },
  {
   "cell_type": "code",
   "execution_count": 6,
   "metadata": {},
   "outputs": [],
   "source": [
    "def calculate_oxidation_number(\n",
    "    molecule_composition: dict[str:int], oxidation_number: dict[str:int], charge: int\n",
    ") -> dict[str:int]:\n",
    "    for atom, no in oxidation_number.items():\n",
    "        if no == 999:\n",
    "            oxidation_number[atom] = charge - sum(\n",
    "                [\n",
    "                    on * na\n",
    "                    for na, on in zip(\n",
    "                        molecule_composition.values(), oxidation_number.values()\n",
    "                    )\n",
    "                    if on != 999\n",
    "                ]\n",
    "            )\n",
    "\n",
    "    return oxidation_number"
   ]
  },
  {
   "cell_type": "code",
   "execution_count": 20,
   "metadata": {},
   "outputs": [],
   "source": [
    "def input_oxidation_number(\n",
    "    molecule_composition: list[dict[str : int]], molecules: list[str], charges: list[int]\n",
    ") -> list[dict[str : int]]:\n",
    "    \n",
    "    for count, mol in enumerate(molecule_composition):\n",
    "        oxidation_number: dict[str:int] = {}\n",
    "        for atom in mol.keys():\n",
    "            oxidation_number[atom] = int(\n",
    "                input(f\"what is the oxidation number of atom {atom} in {molecules[count]}? \")\n",
    "            )\n",
    "\n",
    "        if 999 in oxidation_number.values():\n",
    "            oxidation_number = calculate_oxidation_number(\n",
    "                mol, oxidation_number, charges[count]\n",
    "            )\n",
    "            \n",
    "        yield oxidation_number"
   ]
  },
  {
   "cell_type": "code",
   "execution_count": 60,
   "metadata": {},
   "outputs": [],
   "source": [
    "def redox(react: dict[str : int], prod: dict[str : int], r: str, p: str) -> dict[str : int]:\n",
    "    \n",
    "    oxidation_numbers: dict[str : int] = {}\n",
    "    for atr, onr in react.items():\n",
    "        if atr in prod.keys():\n",
    "            if prod[atr] > onr:\n",
    "                print(\n",
    "                    f\"The atom {atr} oxidizes when pass from {r} to {p} ({onr}-->{prod[atr]})\"\n",
    "                )\n",
    "                oxidation_numbers[atr] = [prod[atr] - onr]\n",
    "                oxidation_numbers[\"Oxidize\"] = True\n",
    "            elif prod[atr] == onr:\n",
    "                print(\n",
    "                    f\"The atom {atr} doesn't suffer oxide-reduction reaction  when pass from {r} to {p}\"\n",
    "                )\n",
    "            else:\n",
    "                print(\n",
    "                    f\"The atom {atr} reduces when pass from {r} to {p} ({onr}-->{prod[atr]})\"\n",
    "                )\n",
    "                oxidation_numbers[atr] = [onr - prod[atr]]\n",
    "                oxidation_numbers[\"Reduce\"] = True\n",
    "    return oxidation_numbers"
   ]
  },
  {
   "cell_type": "code",
   "execution_count": 55,
   "metadata": {},
   "outputs": [],
   "source": [
    "def oxide_reduction(\n",
    "    no_react_prod: list[dict[str : int]], molecules: list[str]\n",
    ") -> dict[str:int] or None:\n",
    "    \n",
    "    for r in range(2):\n",
    "        react: dict[str : int] = no_react_prod[r]\n",
    "        for p in range(2):\n",
    "            prod: dict[str : int] = no_react_prod[p+2]\n",
    "            \n",
    "            redox_numbers = redox(react,prod,molecules[r],molecules[p+2])\n",
    "\n",
    "            if len(redox_numbers) > 0:\n",
    "                yield redox_numbers"
   ]
  },
  {
   "cell_type": "code",
   "execution_count": 16,
   "metadata": {},
   "outputs": [],
   "source": [
    "(\n",
    "    reactive_a,\n",
    "    r_charge_a,\n",
    "    reactive_b,\n",
    "    r_charge_b,\n",
    "    product_a,\n",
    "    p_charge_a,\n",
    "    product_b,\n",
    "    p_charge_b,\n",
    ") = input_substance()"
   ]
  },
  {
   "cell_type": "code",
   "execution_count": 9,
   "metadata": {},
   "outputs": [],
   "source": [
    "reactive_a = \"HNO3\"\n",
    "reactive_b = \"Sn\"\n",
    "product_a = \"H2SnO3\"\n",
    "product_b = \"NO\"\n",
    "r_charge_a = r_charge_b = p_charge_a = p_charge_b = 0"
   ]
  },
  {
   "cell_type": "code",
   "execution_count": 19,
   "metadata": {},
   "outputs": [
    {
     "name": "stdout",
     "output_type": "stream",
     "text": [
      "if you unknown the oxidation number, please input 999 and the program calculate it (only maximum one atom by molecule)\n",
      "\n",
      " ************************************************************ \n",
      "\n",
      "eee {'C': 4, 'H': 1, 'S': -36}\n",
      "eee {'O': 0}\n",
      "eee {'H': 1, 'C': 4, 'O': -2}\n",
      "eee {'S': 4, 'O': -2}\n",
      "\n",
      " ************************************************************ \n",
      "\n",
      "Number of oxidation of atoms in the C6H12S: {'C': 4, 'H': 1, 'S': -36}\n",
      "Number of oxidation of atoms in the O2: {'O': 0}\n",
      "Number of oxidation of atoms in the H2CO3: {'H': 1, 'C': 4, 'O': -2}\n",
      "Number of oxidation of atoms in the SO2: {'S': 4, 'O': -2}\n"
     ]
    }
   ],
   "source": [
    "molecules: list[str] = [reactive_a,reactive_b,product_a,product_b]\n",
    "charges: list[int] = [r_charge_a,r_charge_b,p_charge_a,p_charge_b]\n",
    "comp_react_prod: list[dict[str : int]] = [comp for comp in molecule_composition(molecules)]\n",
    "\n",
    "print(\n",
    "    \"if you unknown the oxidation number, please input 999 and the program calculate it (only maximum one atom by molecule)\"\n",
    ")\n",
    "\n",
    "print(\"\\n\",\"*\"*60,\"\\n\")\n",
    "\n",
    "num_oxid_atoms_react_prod: list = [no for no in input_oxidation_number(comp_react_prod, molecules, charges)]\n",
    "\n",
    "print(\"\\n\",\"*\"*60,\"\\n\")\n",
    "\n",
    "for mol, num_oxid in zip(molecules,num_oxid_atoms_react_prod):\n",
    "    print(f\"Number of oxidation of atoms in the {mol}: {num_oxid}\")\n"
   ]
  },
  {
   "cell_type": "code",
   "execution_count": 61,
   "metadata": {},
   "outputs": [
    {
     "name": "stdout",
     "output_type": "stream",
     "text": [
      "\n",
      " ************************************************************ \n",
      "\n",
      "The atom C doesn't suffer oxide-reduction reaction  when pass from C6H12S to H2CO3\n",
      "The atom H doesn't suffer oxide-reduction reaction  when pass from C6H12S to H2CO3\n",
      "The atom S oxidizes when pass from C6H12S to SO2 (-36-->4)\n",
      "The atom O reduces when pass from O2 to H2CO3 (0-->-2)\n",
      "The atom O reduces when pass from O2 to SO2 (0-->-2)\n",
      "\n",
      " ************************************************************ \n",
      "\n",
      "Change the oxidation number of atoms: \n",
      "[{'S': [40], 'Oxidize': True}, {'O': [2], 'Reduce': True}, {'O': [2], 'Reduce': True}]\n"
     ]
    }
   ],
   "source": [
    "print(\"\\n\",\"*\"*60,\"\\n\")\n",
    "\n",
    "nums_oxid: list[dict[str : int]] = [diff_no for diff_no in oxide_reduction(num_oxid_atoms_react_prod,molecules)]\n",
    "\n",
    "print(\"\\n\",\"*\"*60,\"\\n\")\n",
    "\n",
    "print(\"Change the oxidation number of atoms: \")\n",
    "print(nums_oxid)"
   ]
  }
 ],
 "metadata": {
  "kernelspec": {
   "display_name": "vchempyI",
   "language": "python",
   "name": "python3"
  },
  "language_info": {
   "codemirror_mode": {
    "name": "ipython",
    "version": 3
   },
   "file_extension": ".py",
   "mimetype": "text/x-python",
   "name": "python",
   "nbconvert_exporter": "python",
   "pygments_lexer": "ipython3",
   "version": "3.10.12"
  }
 },
 "nbformat": 4,
 "nbformat_minor": 2
}
