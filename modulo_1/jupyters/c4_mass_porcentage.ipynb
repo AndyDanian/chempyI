{
 "cells": [
  {
   "cell_type": "markdown",
   "metadata": {},
   "source": [
    "# Module 1 - Problem 2: Atomic Mass Porcentage\n",
    "\n",
    "Calculate of atomic mass percentage from molecular formula\n",
    "\n",
    "    * Build a dictionary with the atomic mass\n",
    "    * Separate the atomic symbol from molecular formula\n",
    "    * Identify the amount of each atom\n",
    "    * Calculate the total mass of the molecular formula\n",
    "    * Estimate the atomic mass porcentage"
   ]
  },
  {
   "cell_type": "code",
   "execution_count": 1,
   "metadata": {},
   "outputs": [],
   "source": [
    "from sys import path\n",
    "path.append('../../src/')"
   ]
  },
  {
   "cell_type": "code",
   "execution_count": 2,
   "metadata": {},
   "outputs": [],
   "source": [
    "# import module with the atomic number and atomic mass\n",
    "from atomic_number_mass import atomic_number_mass as Zm"
   ]
  },
  {
   "cell_type": "code",
   "execution_count": 3,
   "metadata": {},
   "outputs": [],
   "source": [
    "def split_symbols_amount(mol_formule: str) -> dict[str:int]:\n",
    "    \"\"\"\n",
    "    build a dictionary with the atomic symbols and amount\n",
    "    for each atom\n",
    "                {atomic_symbol: amount, ...}\n",
    "    \"\"\"\n",
    "    atomic_symbols: list[str] = []\n",
    "    atoms_amount_tmp: list[str] = []\n",
    "    for abc in mol_formule:\n",
    "        if abc.isupper(): # is the string capitalize\n",
    "            atoms_amount_tmp.append('')\n",
    "            atomic_symbols.append(abc)\n",
    "        if abc.islower(): # is not the string capitalize\n",
    "            atomic_symbols[-1] += abc\n",
    "        if abc.isnumeric(): # is the string a number\n",
    "            atoms_amount_tmp[-1] += abc\n",
    "    # convert string to int and transform '' to 1\n",
    "    atoms_amount: list[int] = [int(i) if i != '' else 1 for i in atoms_amount_tmp]\n",
    "    # build a dictionary where the keys is the atomic symbols while the value is equal 0  \n",
    "    composition: dict[str:int] = {symbol:0 for symbol in atomic_symbols}\n",
    "    # remplace 0 by the amount of atoms in the molecular formule \n",
    "    for symbol, amount in zip(atomic_symbols, atoms_amount):\n",
    "        composition[symbol] += amount\n",
    "    return composition"
   ]
  },
  {
   "cell_type": "code",
   "execution_count": 4,
   "metadata": {},
   "outputs": [
    {
     "data": {
      "text/plain": [
       "{'C': 4, 'H': 10, 'O': 2}"
      ]
     },
     "execution_count": 4,
     "metadata": {},
     "output_type": "execute_result"
    }
   ],
   "source": [
    "split_symbols_amount(\"C4H8O2H2\")"
   ]
  },
  {
   "cell_type": "code",
   "execution_count": 5,
   "metadata": {},
   "outputs": [],
   "source": [
    "def molecular_mass(composition: dict[str:int]) -> float:\n",
    "    # calcula of molecular mass\n",
    "    molecular_mass: float = 0.\n",
    "    for symbol, amount in composition.items():\n",
    "        molecular_mass += amount*Zm[symbol][1]\n",
    "    return molecular_mass"
   ]
  },
  {
   "cell_type": "code",
   "execution_count": 6,
   "metadata": {},
   "outputs": [
    {
     "data": {
      "text/plain": [
       "18.013"
      ]
     },
     "execution_count": 6,
     "metadata": {},
     "output_type": "execute_result"
    }
   ],
   "source": [
    "molecular_mass({\"H\":2,\"O\":1})"
   ]
  },
  {
   "cell_type": "code",
   "execution_count": 7,
   "metadata": {},
   "outputs": [],
   "source": [
    "def mass_percentage(molar_mass: float, composition: dict[str:int]) -> None:\n",
    "    for symbol, amount in composition.items():\n",
    "        print(f\"Atomic mass % of {symbol} is {round(amount*Zm[symbol][1]*100/molar_mass,3)}\")"
   ]
  },
  {
   "cell_type": "code",
   "execution_count": 8,
   "metadata": {},
   "outputs": [
    {
     "name": "stdout",
     "output_type": "stream",
     "text": [
      "Atomic mass % of C is 53.316\n",
      "Atomic mass % of H is 11.175\n",
      "Atomic mass % of O is 35.509\n"
     ]
    }
   ],
   "source": [
    "composition: dict[str:int] = split_symbols_amount(\"C4H8O2H2\")\n",
    "molar_mass: float = molecular_mass(composition)\n",
    "mass_percentage(molar_mass, composition)"
   ]
  }
 ],
 "metadata": {
  "kernelspec": {
   "display_name": "vchempyI",
   "language": "python",
   "name": "python3"
  },
  "language_info": {
   "codemirror_mode": {
    "name": "ipython",
    "version": 3
   },
   "file_extension": ".py",
   "mimetype": "text/x-python",
   "name": "python",
   "nbconvert_exporter": "python",
   "pygments_lexer": "ipython3",
   "version": "3.10.12"
  }
 },
 "nbformat": 4,
 "nbformat_minor": 2
}
