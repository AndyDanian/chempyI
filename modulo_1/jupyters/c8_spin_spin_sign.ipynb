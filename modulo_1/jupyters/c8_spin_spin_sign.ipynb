{
 "cells": [
  {
   "cell_type": "markdown",
   "metadata": {},
   "source": [
    "# Module 1 - Problem 8: Signs number and intesities relations\n",
    "\n",
    "This program determine the number of signs and their relations in a spin-spin coupling spectrum with the Pascal's triangle.\n",
    "\n",
    "    * Input number of nucleus equivalents\n",
    "    * Use the factorial function which is a recurrence to calculation "
   ]
  },
  {
   "cell_type": "code",
   "execution_count": 4,
   "metadata": {},
   "outputs": [],
   "source": [
    "def factorial(number: int) -> int:\n",
    "\n",
    "    if number == 0 or number == 1:\n",
    "        return 1\n",
    "    else:\n",
    "        return number * factorial(number-1)"
   ]
  },
  {
   "cell_type": "code",
   "execution_count": 17,
   "metadata": {},
   "outputs": [],
   "source": [
    "def spin_spin_sign(atoms_number: int) -> list:\n",
    "\n",
    "    if atoms_number == 1:\n",
    "        return [1]\n",
    "    else:\n",
    "        list_sign: list[int] = [1]\n",
    "        for n in range(atoms_number - 2):\n",
    "            list_sign.append(factorial(atoms_number-1)/(factorial(atoms_number-(n+2))*factorial(n+1)))\n",
    "        list_sign.append(1)\n",
    "    return list_sign\n"
   ]
  },
  {
   "cell_type": "code",
   "execution_count": 20,
   "metadata": {},
   "outputs": [
    {
     "name": "stdout",
     "output_type": "stream",
     "text": [
      "The number of signes produce by 5 equivalent atoms is: 5\n",
      "The relation of intesities among signed is [1, 4.0, 6.0, 4.0, 1]\n"
     ]
    }
   ],
   "source": [
    "atoms_number: int = int(input(\"what is the atoms number? \"))\n",
    "sign_number = spin_spin_sign(atoms_number)\n",
    "print(f\"The number of signes produce by {atoms_number} equivalent atoms is: {len(sign_number)}\")\n",
    "print(f\"The relation of intesities among signed is: {sign_number}\")"
   ]
  }
 ],
 "metadata": {
  "kernelspec": {
   "display_name": "vchempyI",
   "language": "python",
   "name": "python3"
  },
  "language_info": {
   "codemirror_mode": {
    "name": "ipython",
    "version": 3
   },
   "file_extension": ".py",
   "mimetype": "text/x-python",
   "name": "python",
   "nbconvert_exporter": "python",
   "pygments_lexer": "ipython3",
   "version": "3.10.12"
  }
 },
 "nbformat": 4,
 "nbformat_minor": 2
}
