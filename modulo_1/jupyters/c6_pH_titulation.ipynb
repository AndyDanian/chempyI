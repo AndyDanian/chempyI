{
 "cells": [
  {
   "cell_type": "markdown",
   "metadata": {},
   "source": [
    "# Module 1 - Problem 4: acid-base titulation\n",
    "\n",
    "Calculate the volumen or normality of an acid or a base to reach the indicated pH.\n",
    "Moreover, it's possible calculated the pH.\n",
    "\n",
    "    * Select the pH or what substance type to calculate its volumen or normality\n",
    "    * Enter known quantities (normality, volumen, pH)\n",
    "    * Calculate unknown volumen\n",
    "\n",
    "Notes:\n",
    "    * When the substance under titulation is an acid with a base the pH increment\n",
    "    * When the substance under titulation is a base with an acid the pH decrease"
   ]
  },
  {
   "cell_type": "code",
   "execution_count": 2,
   "metadata": {},
   "outputs": [],
   "source": [
    "from math import log10 as log"
   ]
  },
  {
   "cell_type": "code",
   "execution_count": 3,
   "metadata": {},
   "outputs": [],
   "source": [
    "# Select calculate type\n",
    "def calculation_type() -> int:\n",
    "    incognit: int = int(\n",
    "        input(\n",
    "            \"What do you want calculate [integer]?\\\n",
    "                                1 acid volumen\\\n",
    "                                2 base volumen\\\n",
    "                                3 acid normality\\\n",
    "                                4 base normality\\\n",
    "                                5 pH\"\n",
    "        )\n",
    "    )\n",
    "    if incognit == 1:\n",
    "        print(\"Calculation of acid volumen for base titualtion\")\n",
    "    if incognit == 2:\n",
    "        print(\"Calculation of base volumen for acid titualtion\")\n",
    "    if incognit == 3:\n",
    "        print(\"Calculation acid normality in a acid-base solution at standard conditions\")\n",
    "    if incognit == 4:\n",
    "        print(\"Calculation base normality in a acid-base solution at standard conditions\")\n",
    "    if incognit == 5:\n",
    "        print(\"Calculation of pH for a acid-base solution\")\n",
    "    return incognit    "
   ]
  },
  {
   "cell_type": "code",
   "execution_count": null,
   "metadata": {},
   "outputs": [],
   "source": [
    "# While conditional for acid-base titulation\n",
    "def verifiation(pH_titulation: float, pH: float, incognit: int) -> bool:\n",
    "    if incognit == 1:\n",
    "        # Acid titulation\n",
    "        return pH_titulation > pH\n",
    "    if incognit == 2:\n",
    "        # Base titulation\n",
    "        return pH_titulation < pH"
   ]
  },
  {
   "cell_type": "code",
   "execution_count": 8,
   "metadata": {},
   "outputs": [],
   "source": [
    "# Known quantities\n",
    "def input_parameters(incognit: int) -> float :\n",
    "    av: float = 0.\n",
    "    bv: float = 0.\n",
    "    an: float = 0.\n",
    "    bn: float = 0.\n",
    "    pH: float = 0.\n",
    "    size_volumen: float = 0.\n",
    "\n",
    "    if incognit != 1:\n",
    "        av = float(input(\"what is the acid volumen?\"))\n",
    "        print(f\"Acid Volumen: {av}\")\n",
    "    if incognit != 2:\n",
    "        bv = float(input(\"what is the base volumen?\"))\n",
    "        print(f\"Base Volumen: {bv}\")\n",
    "    if incognit != 3:\n",
    "        an = float(input(\"what is the acid normality?\"))\n",
    "        print(f\"Acid Normality: {an}\")\n",
    "    if incognit != 4:\n",
    "        bn = float(input(\"what is the base normality?\"))\n",
    "        print(f\"Base Normality: {bn}\")\n",
    "    if incognit != 5 and incognit in [1, 2]:\n",
    "        pH = float(input(\"what is the desired pH?\"))\n",
    "        print(f\"pH Desired: {pH}\")\n",
    "    if incognit in [1, 2]:\n",
    "        size_volumen = float(\n",
    "            input(\"what is the volumen size in each titulation step?\")\n",
    "        )\n",
    "        print(f\"Titulation Step: {size_volumen}\")\n",
    "    return av, bv, an, bn, pH, size_volumen"
   ]
  },
  {
   "cell_type": "code",
   "execution_count": 18,
   "metadata": {},
   "outputs": [
    {
     "name": "stdout",
     "output_type": "stream",
     "text": [
      "acid normality: 0.1,                base volumen: 0.0,                pH titulation: 1.0\n",
      "acid normality: 0.09,                base volumen: 1.0,                pH titulation: 1.05\n",
      "acid normality: 0.08,                base volumen: 2.0,                pH titulation: 1.1\n",
      "acid normality: 0.07,                base volumen: 3.0,                pH titulation: 1.15\n",
      "acid normality: 0.06,                base volumen: 4.0,                pH titulation: 1.22\n",
      "acid normality: 0.05,                base volumen: 5.0,                pH titulation: 1.3\n",
      "acid normality: 0.04,                base volumen: 6.0,                pH titulation: 1.4\n",
      "acid normality: 0.03,                base volumen: 7.0,                pH titulation: 1.52\n",
      "acid normality: 0.02,                base volumen: 8.0,                pH titulation: 1.7\n",
      "acid normality: 0.01,                base volumen: 9.0,                pH titulation: 2.0\n",
      "acid normality: 0.0,                base volumen: 10.0,                pH titulation: 7.0\n"
     ]
    }
   ],
   "source": [
    "def calculation(incognit: int) -> None:\n",
    "    av, bv, an, bn, pH, size_volumen = input_parameters(incognit)\n",
    "    v_titulation: float = 0.0\n",
    "    \n",
    "    if incognit in [1, 2]:\n",
    "        # Titulation\n",
    "        substance_a: str = \"acid\"\n",
    "        substance_b: str = \"base\"\n",
    "        norm_sub_a: float = an\n",
    "        norm_sub_b: float = bn\n",
    "        vol_sub_a: float = av\n",
    "        if incognit == 1:\n",
    "            substance_a = \"base\"\n",
    "            substance_b = \"acid\"\n",
    "            norm_sub_a = bn\n",
    "            norm_sub_b = an\n",
    "            vol_sub_a = bv\n",
    "\n",
    "        pH_titulation: float = 0.0\n",
    "        while verifiation(pH_titulation, pH, incognit):\n",
    "            # acid normality in excess\n",
    "            n_temp: float = norm_sub_a - norm_sub_b * v_titulation / vol_sub_a\n",
    "            if n_temp > 0.0:\n",
    "                pH_titulation = -log(n_temp)\n",
    "            elif round(n_temp, 2) == 0.0:\n",
    "                # neutralization of pH: [H+] = [OH-]\n",
    "                pH_titulation = 7.0\n",
    "            else:\n",
    "                # base normality excess\n",
    "                n_temp = norm_sub_b * v_titulation / (vol_sub_a + v_titulation)\n",
    "                pH_titulation = 14 + log(n_temp)\n",
    "            print(\n",
    "                f\"{substance_a} normality: {round(n_temp,2)},\\\n",
    "                    {substance_b} volumen: {round(v_titulation,2)},\\\n",
    "                    pH titulation: {round(pH_titulation,2)}\"\n",
    "            )\n",
    "            v_titulation += size_volumen\n",
    "    elif incognit == 3:\n",
    "        acid_normality: float = bn * bv / av\n",
    "        print(f\"Acid Normality: {acid_normality}\")\n",
    "    elif incognit == 4:\n",
    "        base_normality: float = bn * bv / av\n",
    "        print(f\"Base Normality: {base_normality}\")\n",
    "    else:\n",
    "        solution_normality: float = (an * av) - (bn * bv)\n",
    "        if solution_normality < 0.0:\n",
    "            print(\n",
    "                f\"Solution has excess of [OH-] and its pH: {14 + log(bn * bv/(av + bv))}\"\n",
    "            )\n",
    "        else:\n",
    "            print(f\"Solution has excess of [H+] and its pH: {-log(an * av/(av + bv))}\")"
   ]
  }
 ],
 "metadata": {
  "kernelspec": {
   "display_name": "vchempyI",
   "language": "python",
   "name": "python3"
  },
  "language_info": {
   "codemirror_mode": {
    "name": "ipython",
    "version": 3
   },
   "file_extension": ".py",
   "mimetype": "text/x-python",
   "name": "python",
   "nbconvert_exporter": "python",
   "pygments_lexer": "ipython3",
   "version": "3.10.12"
  }
 },
 "nbformat": 4,
 "nbformat_minor": 2
}
