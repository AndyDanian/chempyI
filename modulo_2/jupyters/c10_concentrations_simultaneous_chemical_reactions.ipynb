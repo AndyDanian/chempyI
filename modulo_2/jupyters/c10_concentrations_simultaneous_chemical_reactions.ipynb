{
 "cells": [
  {
   "cell_type": "markdown",
   "metadata": {},
   "source": [
    "# Module 2 - Problem 10: Concentrations from Simultaneous Reactions"
   ]
  },
  {
   "cell_type": "code",
   "execution_count": 42,
   "metadata": {},
   "outputs": [],
   "source": [
    "import sympy as smp\n",
    "from sympy import *"
   ]
  },
  {
   "cell_type": "code",
   "execution_count": 2,
   "metadata": {},
   "outputs": [],
   "source": [
    "def molecules(nreactives: int, nproducts: int) -> list[str]:\n",
    "\n",
    "    molecules: str = []\n",
    "    for r in range(nreactives):\n",
    "        molecules.append(input(f\"what is the reactive {r+1}?\"))\n",
    "    for p in range(nproducts):\n",
    "        molecules.append(input(f\"what is the product {p+1}?\"))\n",
    "\n",
    "    return molecules"
   ]
  },
  {
   "cell_type": "code",
   "execution_count": 9,
   "metadata": {},
   "outputs": [],
   "source": [
    "def coefficients(molecules: list[str]) -> list[list[int]]:\n",
    "\n",
    "    coefficients: list[list[int]] = [  ]\n",
    "    for r in range(1,len(molecules)):\n",
    "        print(f\"*****    Reaction {r}    *****\")\n",
    "        temp: list[int] = []\n",
    "        for m in molecules:\n",
    "            coef: int = int(input(f\"what is the coefficient of {m}\"))\n",
    "            temp.append(coef)\n",
    "            print(f\"The coefficient of {m} is {coef}\")\n",
    "        coefficients.append(temp)\n",
    "    \n",
    "    return coefficients"
   ]
  },
  {
   "cell_type": "code",
   "execution_count": 46,
   "metadata": {},
   "outputs": [],
   "source": [
    "def equation(molecules: list[str], coefficients: list[list[int]], reference: int) -> list[smp.core.relational.Equality]:\n",
    "\n",
    "    for x in range(len(molecules)-1):\n",
    "        if x + 1 != reference and x == 0:\n",
    "            equation: smp.core.relational.Equality = coefficients[x]*symbols(molecules[x])\n",
    "        elif x + 1 != reference:\n",
    "            equation += coefficients[x]*symbols(molecules[x])\n",
    "    \n",
    "    return Eq(equation, coefficients[-1])"
   ]
  },
  {
   "cell_type": "code",
   "execution_count": 4,
   "metadata": {},
   "outputs": [],
   "source": [
    "nreactives: int = int(input(\"what is the number of reactives?\"))\n",
    "nproducts: int = int(input(\"what is the number of products?\"))\n",
    "nmolecules: int = nreactives + nproducts"
   ]
  },
  {
   "cell_type": "code",
   "execution_count": 5,
   "metadata": {},
   "outputs": [],
   "source": [
    "molecules = molecules(nreactives, nproducts)"
   ]
  },
  {
   "cell_type": "code",
   "execution_count": 7,
   "metadata": {},
   "outputs": [
    {
     "name": "stdout",
     "output_type": "stream",
     "text": [
      "There are 3 molecules then you need 2 chemical equation to calculate all concentrations\n"
     ]
    }
   ],
   "source": [
    "print(f\"There are {nmolecules} molecules then you need {nmolecules-1} chemical equation to calculate all concentrations\")"
   ]
  },
  {
   "cell_type": "code",
   "execution_count": 10,
   "metadata": {},
   "outputs": [
    {
     "name": "stdout",
     "output_type": "stream",
     "text": [
      "*****    Reaction 1    *****\n",
      "The coefficient of A is 3\n",
      "The coefficient of B is 1\n",
      "The coefficient of C is 2\n",
      "*****    Reaction 2    *****\n",
      "The coefficient of A is 1\n",
      "The coefficient of B is 5\n",
      "The coefficient of C is 6\n"
     ]
    }
   ],
   "source": [
    "coefficients = coefficients(molecules, nreactives, nproducts)"
   ]
  },
  {
   "cell_type": "code",
   "execution_count": 94,
   "metadata": {},
   "outputs": [],
   "source": [
    "reference: int = int(input(f\"what is the reference substance according the next order {molecules}\"))\n",
    "rconcentration: float = float(input(f'what is the concentration of {molecules[reference-1]}?'))"
   ]
  },
  {
   "cell_type": "code",
   "execution_count": 47,
   "metadata": {},
   "outputs": [
    {
     "name": "stdout",
     "output_type": "stream",
     "text": [
      "The set of equations to solve, is:\n",
      " [Eq(3*A + B, 2), Eq(A + 5*B, 6)]\n"
     ]
    }
   ],
   "source": [
    "equations: list[Eq] = [equation(molecules, c, reference) for c in coefficients]\n",
    "print(f\"The set of equations to solve, is:\\n {equations}\")"
   ]
  },
  {
   "cell_type": "code",
   "execution_count": 61,
   "metadata": {},
   "outputs": [
    {
     "name": "stdout",
     "output_type": "stream",
     "text": [
      "Unknown concentration of the (A, B) molecules\n"
     ]
    }
   ],
   "source": [
    "incognits: tuple[smp.core.symbol.Symbol] = tuple(symbols(m) for m in molecules if m != molecules[reference-1])\n",
    "print(f\"Unknown concentration of the {incognits} molecules\")"
   ]
  },
  {
   "cell_type": "code",
   "execution_count": 96,
   "metadata": {},
   "outputs": [],
   "source": [
    "#! In a set we can not perform indexing\n",
    "solutions: set[tuple[float]] = list(nonlinsolve(equations,incognits))[0]"
   ]
  },
  {
   "cell_type": "code",
   "execution_count": 95,
   "metadata": {},
   "outputs": [
    {
     "name": "stdout",
     "output_type": "stream",
     "text": [
      "The concentrations of the substances are:\n",
      "[A] = 2/7\n",
      "[B] = 8/7\n",
      "[C] = 0.7\n"
     ]
    }
   ],
   "source": [
    "print(\"The concentrations of the substances are:\")\n",
    "message: str = 'is'\n",
    "for x in range(len(molecules)):\n",
    "    if x != reference-1:\n",
    "        concentration: float = solutions[x]\n",
    "    else:\n",
    "        concentration = rconcentration\n",
    "    print(f\"[{molecules[x]}] = {concentration}\")"
   ]
  }
 ],
 "metadata": {
  "kernelspec": {
   "display_name": "vchempyI",
   "language": "python",
   "name": "python3"
  },
  "language_info": {
   "codemirror_mode": {
    "name": "ipython",
    "version": 3
   },
   "file_extension": ".py",
   "mimetype": "text/x-python",
   "name": "python",
   "nbconvert_exporter": "python",
   "pygments_lexer": "ipython3",
   "version": "3.10.12"
  }
 },
 "nbformat": 4,
 "nbformat_minor": 2
}
