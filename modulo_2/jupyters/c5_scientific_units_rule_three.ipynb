{
 "cells": [
  {
   "cell_type": "markdown",
   "metadata": {},
   "source": [
    "# Module 2 - Problem 5: Scientific constants and  units"
   ]
  },
  {
   "cell_type": "code",
   "execution_count": 9,
   "metadata": {},
   "outputs": [],
   "source": [
    "from scipy import constants "
   ]
  },
  {
   "cell_type": "markdown",
   "metadata": {},
   "source": [
    "### Some scientific constants"
   ]
  },
  {
   "cell_type": "code",
   "execution_count": 17,
   "metadata": {},
   "outputs": [
    {
     "name": "stdout",
     "output_type": "stream",
     "text": [
      "Value and unit for Boltzmann constant: 1.380649e-23 J K^-1\n",
      "Value and unit for Avogadro constant: 6.02214076e+23 mol^-1\n",
      "Value and unit for Gases ideal constant: 8.314462618 J mol^-1 K^-1\n",
      "Value and unit for standard atmosphere: 101325.0 Pa\n"
     ]
    }
   ],
   "source": [
    "print(f\"Value and unit for Boltzmann constant: {constants.Boltzmann} {constants.unit('Boltzmann constant')}\")\n",
    "print(f\"Value and unit for Avogadro constant: {constants.N_A} {constants.unit('Avogadro constant')}\")\n",
    "print(f\"Value and unit for Gases ideal constant: {constants.R} {constants.unit('molar gas constant')}\")\n",
    "print(f\"Value and unit for standard atmosphere: {constants.atm} {constants.unit('standard atmosphere')}\")"
   ]
  },
  {
   "cell_type": "code",
   "execution_count": 28,
   "metadata": {},
   "outputs": [
    {
     "name": "stdout",
     "output_type": "stream",
     "text": [
      "Constants in the constants module from SciPy:\n",
      "Avogadro | Boltzmann | Btu | ConstantWarning | G | Planck | R | Rydberg | Wien | acre | \n",
      "alpha | angstrom | arcmin | arcminute | arcsec | arcsecond | atm | atmosphere | atto | au | \n",
      "bar | barrel | bbl | blob | c | calorie | carat | centi | codata | constants | \n",
      "day | deci | degree | deka | dyn | dyne | e | eV | erg | exa | \n",
      "exbi | femto | fermi | find | foot | g | gallon | gibi | giga | golden | \n",
      "grain | gram | h | hbar | hectare | hecto | horsepower | hour | hp | inch | \n",
      "k | kgf | kibi | kilo | kmh | knot | lambda2nu | lb | lbf | liter | \n",
      "litre | mach | mebi | mega | micro | micron | mil | mile | milli | minute | \n",
      "mmHg | mph | nano | nu2lambda | ounce | oz | parsec | pebi | peta | pi | \n",
      "pico | point | pound | precision | psi | pt | quecto | quetta | ronna | ronto | \n",
      "sigma | slinch | slug | stone | tebi | tera | test | torr | u | unit | \n",
      "value | week | yard | year | yobi | yocto | yotta | zebi | zepto | zetta | \n"
     ]
    }
   ],
   "source": [
    "print(\"Constants in the constants module from SciPy:\")\n",
    "count = 0\n",
    "for c in dir(constants):\n",
    "    if \"_\" not in c:\n",
    "        print(c, end=\" | \")\n",
    "        count += 1\n",
    "    if count % 10 == 0 and count > 0:\n",
    "        print()\n",
    "        count = 0"
   ]
  },
  {
   "cell_type": "markdown",
   "metadata": {},
   "source": [
    "## Interconversion of units\n",
    "\n",
    "All scientific constants in constants module from SciPy are in the following units for default:\n",
    "\n",
    "    * length in meters\n",
    "    * energy in joules\n",
    "    * time in seconds\n",
    "    * pressure in pascals\n",
    "    * temperature in Kelvin\n",
    "    * angle in radians\n",
    "    * area in square meters\n",
    "    * volumen in cubic meters\n",
    "    * mass in kilograms\n",
    "    * speed in meters per second\n",
    "    * power in watts\n",
    "    * force in newton"
   ]
  },
  {
   "cell_type": "code",
   "execution_count": 34,
   "metadata": {},
   "outputs": [
    {
     "name": "stdout",
     "output_type": "stream",
     "text": [
      "Interconversion Factors: \n",
      "    * newton to dyna: 1e-05\n",
      "    * joules to ergios: 1e-07\n",
      "    * meters to angstrom: 1e-10\n",
      "    * pascal to atmosphere: 101325.0\n"
     ]
    }
   ],
   "source": [
    "print(\"Interconversion Factors: \")\n",
    "print(f\"    * newton to dyna: {constants.dyn}\")\n",
    "print(f\"    * joules to ergios: {constants.erg}\")\n",
    "print(f\"    * meters to angstrom: {constants.angstrom}\")\n",
    "print(f\"    * pascal to atmosphere: {constants.atm}\")"
   ]
  },
  {
   "cell_type": "code",
   "execution_count": 35,
   "metadata": {},
   "outputs": [
    {
     "name": "stdout",
     "output_type": "stream",
     "text": [
      "SI Prefix Factors: \n",
      "    * meter to megameter: 1000000.0\n",
      "    * meter to kilometer: 1000.0\n",
      "    * meter to hectometer: 100.0\n",
      "    * meter to dekameter: 10.0\n",
      "\n",
      "    * meter to decimeter: 0.1\n",
      "    * meter to centimeter: 0.01\n",
      "    * meter to millimeter: 0.001\n",
      "    * meter to micrometer: 1e-06\n"
     ]
    }
   ],
   "source": [
    "print(\"SI Prefix Factors: \")\n",
    "print(f\"    * meter to megameter: {constants.mega}\")\n",
    "print(f\"    * meter to kilometer: {constants.kilo}\")\n",
    "print(f\"    * meter to hectometer: {constants.hecto}\")\n",
    "print(f\"    * meter to dekameter: {constants.deka}\")\n",
    "print()\n",
    "print(f\"    * meter to decimeter: {constants.deci}\")\n",
    "print(f\"    * meter to centimeter: {constants.centi}\")\n",
    "print(f\"    * meter to millimeter: {constants.milli}\")\n",
    "print(f\"    * meter to micrometer: {constants.micro}\")\n"
   ]
  },
  {
   "cell_type": "code",
   "execution_count": 46,
   "metadata": {},
   "outputs": [],
   "source": [
    "def rule_three(a: float, b: float, x: float, r: int) -> float:\n",
    "    if r == 'd':\n",
    "        return a * x / b \n",
    "    else:\n",
    "        return a * b / x"
   ]
  },
  {
   "cell_type": "code",
   "execution_count": 47,
   "metadata": {},
   "outputs": [],
   "source": [
    "seconds: float = float(input('what is the time of the measurement in seconds?'))\n",
    "volumen = float(input(f'what is the volumen in m³ of the solution at {seconds} seconds?'))"
   ]
  },
  {
   "cell_type": "code",
   "execution_count": 49,
   "metadata": {},
   "outputs": [],
   "source": [
    "incognit: str = input('what quantity will you need to stimate [v/s]?')\n",
    "if incognit == 'v':\n",
    "    x: float = float(input('what is the time of the NEW measurement in hours?'))\n",
    "    a: float = volumen\n",
    "    b: float = seconds\n",
    "else:\n",
    "    x = float(input('what is the NEW volumen of the solution?'))\n",
    "    a: float = seconds\n",
    "    b: float = volumen\n"
   ]
  },
  {
   "cell_type": "code",
   "execution_count": 51,
   "metadata": {},
   "outputs": [],
   "source": [
    "relation: str = input(\"how is the relation between volumen and time, direct o indirect [d/i]?\")\n",
    "y = rule_three(a, b, x, relation)"
   ]
  },
  {
   "cell_type": "code",
   "execution_count": 53,
   "metadata": {},
   "outputs": [
    {
     "name": "stdout",
     "output_type": "stream",
     "text": [
      "New volumen in 7200.0 s is: 2.0 m³\n",
      "New volumen in 7200.0 s is: 0.002 l\n",
      "New volumen in 432000.0 minutes is: 0.002 l\n",
      "New volumen in 25920000.0 hours is: 2e-06 ml\n",
      "New volumen in 4354560000.0 weeks is: 2000000.0 gl\n"
     ]
    }
   ],
   "source": [
    "print(f\"New volumen in {x} s is: {y} m³\")\n",
    "print(f\"New volumen in {x} s is: {y*constants.liter} l\")\n",
    "print(f\"New volumen in {x*constants.minute} minutes is: {y*constants.liter} l\")\n",
    "print(f\"New volumen in {x*constants.hour} hours is: {y*constants.liter*constants.milli} ml\")\n",
    "print(f\"New volumen in {x*constants.week} weeks is: {y*constants.liter*constants.giga} gl\")"
   ]
  }
 ],
 "metadata": {
  "kernelspec": {
   "display_name": "vchempyI",
   "language": "python",
   "name": "python3"
  },
  "language_info": {
   "codemirror_mode": {
    "name": "ipython",
    "version": 3
   },
   "file_extension": ".py",
   "mimetype": "text/x-python",
   "name": "python",
   "nbconvert_exporter": "python",
   "pygments_lexer": "ipython3",
   "version": "3.10.12"
  }
 },
 "nbformat": 4,
 "nbformat_minor": 2
}
