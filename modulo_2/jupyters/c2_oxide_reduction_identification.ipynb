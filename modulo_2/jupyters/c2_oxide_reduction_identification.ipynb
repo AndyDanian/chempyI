{
 "cells": [
  {
   "cell_type": "markdown",
   "metadata": {},
   "source": [
    "# Module 2 - Problem 7: Balancing an redox reaction\n",
    "\n",
    "Indetify the substances that is oxidized from the reduced of a reaction with two reactives and two products.\n",
    "Moreover, the oxidation number of the same atom in the both reactives or products should be equal. This program\n",
    "can also calculate the oxidation number of one atom in a molecule\n",
    "\n",
    "    * Input reactants and products with their charges\n",
    "    * Input oxidation numbers\n",
    "        * Calculate of oxidation number\n",
    "    * Electronic movement\n",
    "    * Classify the substance in reducing and oxidizing agents\n",
    "\n",
    "Notes:\n",
    "\n",
    "    * Oxidation number: is a virtual charge belong to an atom whether every bonds are ionic\n",
    "        * An atom of free element has an oxidation number equal to 0, example, each atom in Cl2\n",
    "        * An monoatomic ion has an oxidation number equal to the charge\n",
    "        * Alkali metals in a molecule always have an oxidation number equal to 1\n",
    "        * Alkali earth metals in a molecule always have an oxidation number equal to 2\n",
    "        * Fluorine in compounds has an oxidation number equal to -1\n",
    "        * Hydrogen in compoinds has an oxidation number equal to 1 except in molecules with\n",
    "          metals because in these substances its oxidation number equal to -1, example, NaH\n",
    "        * Oxygen atom has an oxidation number equal to -2 except in the peroxide because \n",
    "          in this substance its oxidation number is equal to -1\n",
    "        * Other halogens have an oxidation number equal to -1 but in molecules with oxygen\n",
    "          or fluorine its oxidation number change, example, ClO4- the Cl is 7"
   ]
  },
  {
   "cell_type": "code",
   "execution_count": 4,
   "metadata": {},
   "outputs": [],
   "source": [
    "from sys import path\n",
    "\n",
    "path.append(\"../../src/m1\")\n",
    "\n",
    "import numpy as np\n",
    "from atomic_mass_percentage import split_symbols_amount, molecular_mass"
   ]
  },
  {
   "cell_type": "code",
   "execution_count": 24,
   "metadata": {},
   "outputs": [],
   "source": [
    "def input_substance(num_react: int, num_prod: int) -> [list[str], list[int]]:\n",
    "\n",
    "    molecules: list[str] = []\n",
    "    charges: list[int] = []\n",
    "    for r in range(num_react):\n",
    "        molecules.append(input(f\"what is the {r+1} reactive?\"))\n",
    "        charges.append(int(input(f\"what is the charge of the {molecules[r]}?\")))\n",
    "\n",
    "    for p in range(num_prod):\n",
    "        molecules.append(input(f\"what is the {p+1} product?\"))\n",
    "        charges.append(int(input(f\"what is the charge of the {molecules[num_react+p]}?\")))\n",
    "\n",
    "    return molecules, charges"
   ]
  },
  {
   "cell_type": "code",
   "execution_count": 6,
   "metadata": {},
   "outputs": [],
   "source": [
    "def molecule_composition(molecule: list) -> dict[str : int]:\n",
    "    for m in molecule:\n",
    "        yield split_symbols_amount(m)"
   ]
  },
  {
   "cell_type": "code",
   "execution_count": 31,
   "metadata": {},
   "outputs": [],
   "source": [
    "def calculate_oxidation_number(\n",
    "    molecule_composition: dict[str:int], oxidation_number: dict[str:int], charge: int\n",
    ") -> dict[str:int]:\n",
    "    for atom, no in oxidation_number.items():\n",
    "        if no == 999:\n",
    "            num_at: int = molecule_composition[atom]\n",
    "            temp: int = charge - sum(\n",
    "                [\n",
    "                    on * na\n",
    "                    for na, on in zip(\n",
    "                        molecule_composition.values(), oxidation_number.values()\n",
    "                    )\n",
    "                    if on != 999\n",
    "                ]\n",
    "            )\n",
    "            temp = temp // num_at\n",
    "            oxidation_number[atom] = temp\n",
    "\n",
    "    return oxidation_number"
   ]
  },
  {
   "cell_type": "code",
   "execution_count": 9,
   "metadata": {},
   "outputs": [],
   "source": [
    "def input_oxidation_number(\n",
    "    molecules_composition: list[dict[str : int]], molecules: list[str], charges: list[int]\n",
    ") -> list[dict[str : int]]:\n",
    "    \n",
    "    for count, mol in enumerate(molecules_composition):\n",
    "        oxidation_number: dict[str:int] = {}\n",
    "        for atom in mol.keys():\n",
    "            oxidation_number[atom] = int(\n",
    "                input(f\"what is the oxidation number of atom {atom} in {molecules[count]}? \")\n",
    "            )\n",
    "\n",
    "        if 999 in oxidation_number.values():\n",
    "            oxidation_number = calculate_oxidation_number(\n",
    "                mol, oxidation_number, charges[count]\n",
    "            )\n",
    "            \n",
    "        yield oxidation_number"
   ]
  },
  {
   "cell_type": "code",
   "execution_count": 67,
   "metadata": {},
   "outputs": [],
   "source": [
    "def redox(react: dict[str : int], prod: dict[str : int], r: str, p: str) -> dict[str : int]:\n",
    "    \n",
    "    oxidation_numbers: dict[str : int] = {}\n",
    "    for atr, onr in react.items():\n",
    "        if atr in prod.keys():\n",
    "            if prod[atr] > onr:\n",
    "                print(\n",
    "                    f\"The atom {atr} oxidizes when pass from {r} to {p} ({onr}-->{prod[atr]})\"\n",
    "                )\n",
    "                oxidation_numbers[atr] = prod[atr] - onr\n",
    "                oxidation_numbers[\"Oxidize\"] = True\n",
    "            elif prod[atr] == onr:\n",
    "                print(\n",
    "                    f\"The atom {atr} doesn't suffer oxide-reduction reaction  when pass from {r} to {p}\"\n",
    "                )\n",
    "            else:\n",
    "                print(\n",
    "                    f\"The atom {atr} reduces when pass from {r} to {p} ({onr}-->{prod[atr]})\"\n",
    "                )\n",
    "                oxidation_numbers[atr] = onr - prod[atr]\n",
    "                oxidation_numbers[\"Oxidize\"] = False\n",
    "    return oxidation_numbers"
   ]
  },
  {
   "cell_type": "code",
   "execution_count": 20,
   "metadata": {},
   "outputs": [],
   "source": [
    "def oxide_reduction(\n",
    "    no_react_prod: list[dict[str : int]], molecules: list[str], num_react: int, num_prod: int\n",
    ") -> dict[str:int] or None:\n",
    "    \n",
    "    for r in range(num_react):\n",
    "        react: dict[str : int] = no_react_prod[r]\n",
    "        for p in range(num_prod):\n",
    "            prod: dict[str : int] = no_react_prod[p+num_react]\n",
    "            \n",
    "            redox_numbers = redox(react,prod,molecules[r],molecules[p+num_react])\n",
    "\n",
    "            if len(redox_numbers) > 0:\n",
    "                yield redox_numbers"
   ]
  },
  {
   "cell_type": "code",
   "execution_count": 49,
   "metadata": {},
   "outputs": [],
   "source": [
    "def matrix_amount_charge(atoms: set[str], comp_react_prod: list[dict[str : int]], charges: list[int], num_r: int) -> np.array:\n",
    "# Note: The reactive coefficient are also positive because negative values make mistake in some reaction, for example\n",
    "# F2+2 + Cr2O7+2 + H+1 --> Cr+3 + H2O + Fe+3\n",
    "    matrix: list[list[int]] = []\n",
    "    for a in atoms:            \n",
    "        temp: list[int] = []\n",
    "        for count, molecule in enumerate(comp_react_prod):\n",
    "            if a in molecule.keys(): \n",
    "                temp.append(molecule[a])\n",
    "            else:\n",
    "                temp.append(0)\n",
    "        matrix.append(temp)\n",
    "    matrix.append(charges)\n",
    "\n",
    "    return np.array(matrix,dtype=np.float_)"
   ]
  },
  {
   "cell_type": "code",
   "execution_count": 12,
   "metadata": {},
   "outputs": [],
   "source": [
    "def heaviest(molecules: list[dict[str : int]]) -> int:\n",
    "\n",
    "    heaviest_index: int = 0\n",
    "    heaviest: float = 0.\n",
    "    for count, mol in enumerate(molecules):\n",
    "        mass_mol: float = molecular_mass(mol)\n",
    "        if mass_mol > heaviest:\n",
    "            heaviest = mass_mol\n",
    "            heaviest_index = count\n",
    "\n",
    "    return heaviest_index"
   ]
  },
  {
   "cell_type": "code",
   "execution_count": 13,
   "metadata": {},
   "outputs": [],
   "source": [
    "def add_row_col(matrix: np.array, heaviest: int, nrow: int, ncol: int) -> np.array:\n",
    "\n",
    "    if nrow > ncol:\n",
    "        column_add: np.array = np.array([0 if i < (nrow - 1) else 1 for i in range(nrow)], dtype=np.float_)\n",
    "        return np.column_stack((matrix, column_add))\n",
    "    else:\n",
    "        row_add: np.array = np.array([1 if i == heaviest else 0 for i in range(ncol)], dtype=np.float_)\n",
    "        return np.r_[matrix,[row_add]]"
   ]
  },
  {
   "cell_type": "code",
   "execution_count": 14,
   "metadata": {},
   "outputs": [],
   "source": [
    "def balance(mat_comp_mol: np.array, coef_result: np.array) -> np.array:\n",
    "\n",
    "    return np.linalg.solve(mat_comp_mol, coef_result)"
   ]
  },
  {
   "cell_type": "code",
   "execution_count": 25,
   "metadata": {},
   "outputs": [],
   "source": [
    "num_react: int = int(input(\"how many reactives are there?\"))\n",
    "num_prod: int = int(input(\"how many products are there?\"))\n",
    "molecules, charges = input_substance(num_react, num_prod)"
   ]
  },
  {
   "cell_type": "code",
   "execution_count": 9,
   "metadata": {},
   "outputs": [],
   "source": [
    "reactive_a = \"HNO3\"\n",
    "reactive_b = \"Sn\"\n",
    "product_a = \"H2SnO3\"\n",
    "product_b = \"NO\"\n",
    "r_charge_a = r_charge_b = p_charge_a = p_charge_b = 0"
   ]
  },
  {
   "cell_type": "code",
   "execution_count": 30,
   "metadata": {},
   "outputs": [
    {
     "name": "stdout",
     "output_type": "stream",
     "text": [
      "if you unknown the oxidation number, please input 999 and the program calculate it (only maximum one atom by molecule)\n",
      "\n",
      " ************************************************************ \n",
      "\n",
      "\n",
      " ************************************************************ \n",
      "\n",
      "Number of oxidation of atoms in the Fe: {'Fe': 2}\n",
      "Number of oxidation of atoms in the Cr2O7: {'Cr': 6.0, 'O': -2}\n",
      "Number of oxidation of atoms in the H: {'H': 1}\n",
      "Number of oxidation of atoms in the Cr: {'Cr': 3}\n",
      "Number of oxidation of atoms in the H2O: {'H': 1, 'O': -2}\n",
      "Number of oxidation of atoms in the Fe: {'Fe': 3}\n"
     ]
    }
   ],
   "source": [
    "comp_react_prod: list[dict[str : int]] = [comp for comp in molecule_composition(molecules)]\n",
    "\n",
    "print(\n",
    "    \"if you unknown the oxidation number, please input 999 and the program calculate it (only maximum one atom by molecule)\"\n",
    ")\n",
    "\n",
    "print(\"\\n\",\"*\"*60,\"\\n\")\n",
    "\n",
    "num_oxid_atoms_react_prod: list = [no for no in input_oxidation_number(comp_react_prod, molecules, charges)]\n",
    "\n",
    "print(\"\\n\",\"*\"*60,\"\\n\")\n",
    "\n",
    "for mol, num_oxid in zip(molecules,num_oxid_atoms_react_prod):\n",
    "    print(f\"Number of oxidation of atoms in the {mol}: {num_oxid}\")\n"
   ]
  },
  {
   "cell_type": "code",
   "execution_count": 68,
   "metadata": {},
   "outputs": [
    {
     "name": "stdout",
     "output_type": "stream",
     "text": [
      "\n",
      " ************************************************************ \n",
      "\n",
      "The atom Fe oxidizes when pass from Fe to Fe (2-->3)\n",
      "The atom Cr reduces when pass from Cr2O7 to Cr (6.0-->3)\n",
      "The atom O doesn't suffer oxide-reduction reaction  when pass from Cr2O7 to H2O\n",
      "The atom H doesn't suffer oxide-reduction reaction  when pass from H to H2O\n",
      "\n",
      " ************************************************************ \n",
      "\n",
      "Change the oxidation number of atoms: \n",
      "[{'Fe': 1, 'Oxidize': True}, {'Cr': 3.0, 'Oxidize': False}]\n"
     ]
    }
   ],
   "source": [
    "print(\"\\n\",\"*\"*60,\"\\n\")\n",
    "\n",
    "nums_oxid: list[dict[str : int]] = [diff_no for diff_no in oxide_reduction(num_oxid_atoms_react_prod,molecules,num_react,num_prod)]\n",
    "\n",
    "print(\"\\n\",\"*\"*60,\"\\n\")\n",
    "\n",
    "print(\"Change the oxidation number of atoms: \")\n",
    "print(nums_oxid)"
   ]
  },
  {
   "cell_type": "code",
   "execution_count": 50,
   "metadata": {},
   "outputs": [],
   "source": [
    "atoms: set[str] = {atom for molecule in comp_react_prod[:num_react] for atom in molecule.keys()}\n",
    "matrix_amount_atoms = matrix_amount_charge(atoms, comp_react_prod, charges, num_react)"
   ]
  },
  {
   "cell_type": "code",
   "execution_count": 51,
   "metadata": {},
   "outputs": [
    {
     "name": "stdout",
     "output_type": "stream",
     "text": [
      "The matrix with amount of the atoms is not square:  5 x 6\n",
      "Then, is add one row in the last\n"
     ]
    }
   ],
   "source": [
    "row, col = matrix_amount_atoms.shape\n",
    "if row == col:\n",
    "    print(f\"The matrix with amount of the atoms is square:  {row} x {col}\")\n",
    "    m_square_amount_atoms = matrix_amount_atoms\n",
    "    coef_result: np.array = np.array([0 for i in range(row)], dtype=np.float_)\n",
    "else:\n",
    "    print(f\"The matrix with amount of the atoms is not square:  {row} x {col}\")\n",
    "    message: str = 'col'\n",
    "    n: int = row\n",
    "    if col > row:\n",
    "        message = 'row'\n",
    "        n = col\n",
    "    \n",
    "    print(f\"Then, is add one {message} in the last\")\n",
    "    heaviest_molecule = heaviest(comp_react_prod)\n",
    "    \n",
    "    m_square_amount_atoms = add_row_col(matrix_amount_atoms, heaviest_molecule, row, col)\n",
    "\n",
    "    coef_result: np.array = np.array([0 if i < (n-1) else 1 for i in range(n)], dtype=np.float_)"
   ]
  },
  {
   "cell_type": "code",
   "execution_count": 53,
   "metadata": {},
   "outputs": [
    {
     "name": "stdout",
     "output_type": "stream",
     "text": [
      "Balance coeffecients from reactives to products: [ 6.  1. 14. -2. -7. -6.]\n"
     ]
    }
   ],
   "source": [
    "balance_coeff = balance(m_square_amount_atoms,coef_result)\n",
    "print(f\"Balance coeffecients from reactives to products: {balance_coeff}\")"
   ]
  },
  {
   "cell_type": "code",
   "execution_count": 69,
   "metadata": {},
   "outputs": [
    {
     "name": "stdout",
     "output_type": "stream",
     "text": [
      "6.0 Fe + 1.0 Cr2O7 + 14.0 H --> 2.0 Cr + 7.0 H2O + 6.0 Fe \n",
      "\n",
      "The atom Fe is oxidize, lost 1 electrons\n",
      "The atom Cr is reduce, gain 3.0 electrons\n"
     ]
    }
   ],
   "source": [
    "for count, molecule in enumerate(molecules):\n",
    "    bc: str = ''\n",
    "    if abs(balance_coeff[count]) > 1:\n",
    "        bc = str(abs(round(balance_coeff[count],1)))\n",
    "    print(bc + \" \" + molecule, end=\" \")\n",
    "    if count < num_react - 1 or count >= num_react and count < num_react + num_prod - 1:\n",
    "        print(\"+\",end=\" \")\n",
    "    if count == num_react - 1:\n",
    "        print(\"-->\", end=\" \")\n",
    "print(\"\\n\")\n",
    "for ox_red in nums_oxid:\n",
    "    oxid_red: str = \"oxidize\"\n",
    "    lost_gain: str = \"lost\"\n",
    "    if not ox_red[\"Oxidize\"]:\n",
    "        oxid_red = \"reduce\"\n",
    "        lost_gain = \"gain\"\n",
    "    print(f\"The atom {list(ox_red.keys())[0]} is {oxid_red}, {lost_gain} {list(ox_red.values())[0]} electrons\")\n"
   ]
  }
 ],
 "metadata": {
  "kernelspec": {
   "display_name": "vchempyI",
   "language": "python",
   "name": "python3"
  },
  "language_info": {
   "codemirror_mode": {
    "name": "ipython",
    "version": 3
   },
   "file_extension": ".py",
   "mimetype": "text/x-python",
   "name": "python",
   "nbconvert_exporter": "python",
   "pygments_lexer": "ipython3",
   "version": "3.10.12"
  }
 },
 "nbformat": 4,
 "nbformat_minor": 2
}
