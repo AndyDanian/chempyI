{
 "cells": [
  {
   "cell_type": "markdown",
   "metadata": {},
   "source": [
    "# Module 2 - Problem 9: Formation or descomposition rate"
   ]
  },
  {
   "cell_type": "code",
   "execution_count": 1,
   "metadata": {},
   "outputs": [],
   "source": [
    "import csv\n",
    "\n",
    "import sympy as smp\n",
    "from sympy.abc import x"
   ]
  },
  {
   "cell_type": "code",
   "execution_count": 2,
   "metadata": {},
   "outputs": [],
   "source": [
    "def interpolate_sympy(values: list[tuple[float]]) -> smp.core.add.Add:\n",
    "    return smp.polys.polyfuncs.interpolate(values,x)"
   ]
  },
  {
   "cell_type": "code",
   "execution_count": 67,
   "metadata": {},
   "outputs": [],
   "source": [
    "def remove_coefficients(coefficients: list[float], threshold: float) -> smp.polys.polytools.Poly:\n",
    "    \n",
    "    formule: str = ''\n",
    "    pow: int = len(coefficients) - 1 # rest one because there is one coefficient (intercept) more than power\n",
    "    for c in coefficients:\n",
    "        if c > threshold:\n",
    "            if formule != '' and pow >= 1:\n",
    "                formule += '+'\n",
    "            formule += f'{str(c)}*x' \n",
    "            if pow > 0:\n",
    "                formule += f'**{pow}'\n",
    "        pow -= 1\n",
    "\n",
    "    return smp.Poly(formule)"
   ]
  },
  {
   "cell_type": "code",
   "execution_count": 3,
   "metadata": {},
   "outputs": [],
   "source": [
    "molecule: str = input(\"what is the molecule of interest?\")\n",
    "reactive: str = input(f\"which type is the {molecule} in reaction, reactive o product [r/p]?\")"
   ]
  },
  {
   "cell_type": "code",
   "execution_count": 4,
   "metadata": {},
   "outputs": [],
   "source": [
    "# /home/danian/udemy/chempyI/src/m2/formation_rate.csv\n",
    "path: str = input(f\"where is the csv file with the times [h] vs concentrarion [mol/L] {molecule}?\")"
   ]
  },
  {
   "cell_type": "code",
   "execution_count": 13,
   "metadata": {},
   "outputs": [],
   "source": [
    "# Open CSV File\n",
    "with open(path, \"r\") as f:\n",
    "    # Save information in Reader Variable\n",
    "    amounts: list[float] = list(csv.reader(f))\n",
    "values: list[tuple[float]] = [(float(a[0]),float(a[2])) for a in amounts]"
   ]
  },
  {
   "cell_type": "code",
   "execution_count": 50,
   "metadata": {},
   "outputs": [],
   "source": [
    "polynomial = interpolate_sympy(values)"
   ]
  },
  {
   "cell_type": "code",
   "execution_count": 52,
   "metadata": {},
   "outputs": [
    {
     "name": "stdout",
     "output_type": "stream",
     "text": [
      "Polynomial coefficientes from interpolation: [8.01829413027659e-51, 0.0, 0.0, -2.29588740394978e-41, 8.81620763116716e-39, -3.00926553810506e-36, -1.92592994438724e-34, -1.47911419728940e-31, 5.04870979341448e-29, -4.84676140167790e-27, -4.13590306276514e-25, -3.97046694025453e-23, -8.47032947254300e-22, -1.08420217248550e-19, -1.04083408558608e-17, 0.0, 1.24344978758018e-14, -2.27373675443232e-13, 4.54747350886464e-12, -5.82076609134674e-11, 1.74622982740402e-10, 1.99999999930151, 0.0]\n"
     ]
    }
   ],
   "source": [
    "print(f\"Polynomial coefficientes from interpolation: {smp.poly(polynomial).all_coeffs()}\")"
   ]
  },
  {
   "cell_type": "code",
   "execution_count": 53,
   "metadata": {},
   "outputs": [],
   "source": [
    "threshold: float = float(input(\"Threshold for coefficient: \"))"
   ]
  },
  {
   "cell_type": "code",
   "execution_count": 68,
   "metadata": {},
   "outputs": [
    {
     "name": "stdout",
     "output_type": "stream",
     "text": [
      "Poly(1.99999999930151*x, x, domain='RR') <class 'sympy.polys.polytools.Poly'>\n"
     ]
    }
   ],
   "source": [
    "new_polynomial = remove_coefficients(smp.poly(polynomial).all_coeffs(), threshold)\n",
    "print(new_polynomial,type(new_polynomial))"
   ]
  },
  {
   "cell_type": "code",
   "execution_count": 78,
   "metadata": {},
   "outputs": [
    {
     "name": "stdout",
     "output_type": "stream",
     "text": [
      "The rate of formation of the CH3OH is: 2.0 mol/L/h\n"
     ]
    }
   ],
   "source": [
    "message: str = 'descomposition'\n",
    "if reactive == 'p':\n",
    "    message: str = 'formation'\n",
    "print(f\"The rate of {message} of the {molecule} is: {round(smp.diff(new_polynomial.as_expr()),2):.2} mol/L/h\")"
   ]
  },
  {
   "cell_type": "code",
   "execution_count": 59,
   "metadata": {},
   "outputs": [],
   "source": [
    "# Another interpolation form from sympy\n",
    "times: list[float] = [t[0] for t in values]\n",
    "conc: list[float] = [t[1] for t in values]"
   ]
  },
  {
   "cell_type": "code",
   "execution_count": 60,
   "metadata": {},
   "outputs": [
    {
     "data": {
      "text/latex": [
       "$\\displaystyle x \\left(8.01829413027659 \\cdot 10^{-51} x^{21} - 2.29588740394978 \\cdot 10^{-41} x^{18} + 8.81620763116716 \\cdot 10^{-39} x^{17} - 3.00926553810506 \\cdot 10^{-36} x^{16} - 1.92592994438724 \\cdot 10^{-34} x^{15} - 1.4791141972894 \\cdot 10^{-31} x^{14} + 5.04870979341448 \\cdot 10^{-29} x^{13} - 4.8467614016779 \\cdot 10^{-27} x^{12} - 4.13590306276514 \\cdot 10^{-25} x^{11} - 3.97046694025453 \\cdot 10^{-23} x^{10} - 8.470329472543 \\cdot 10^{-22} x^{9} - 1.0842021724855 \\cdot 10^{-19} x^{8} - 1.04083408558608 \\cdot 10^{-17} x^{7} + 1.24344978758018 \\cdot 10^{-14} x^{5} - 2.27373675443232 \\cdot 10^{-13} x^{4} + 4.54747350886464 \\cdot 10^{-12} x^{3} - 5.82076609134674 \\cdot 10^{-11} x^{2} + 1.74622982740402 \\cdot 10^{-10} x + 1.99999999930151\\right)$"
      ],
      "text/plain": [
       "x*(8.01829413027659e-51*x**21 - 2.29588740394978e-41*x**18 + 8.81620763116716e-39*x**17 - 3.00926553810506e-36*x**16 - 1.92592994438724e-34*x**15 - 1.4791141972894e-31*x**14 + 5.04870979341448e-29*x**13 - 4.8467614016779e-27*x**12 - 4.13590306276514e-25*x**11 - 3.97046694025453e-23*x**10 - 8.470329472543e-22*x**9 - 1.0842021724855e-19*x**8 - 1.04083408558608e-17*x**7 + 1.24344978758018e-14*x**5 - 2.27373675443232e-13*x**4 + 4.54747350886464e-12*x**3 - 5.82076609134674e-11*x**2 + 1.74622982740402e-10*x + 1.99999999930151)"
      ]
     },
     "execution_count": 60,
     "metadata": {},
     "output_type": "execute_result"
    }
   ],
   "source": [
    "smp.simplify(smp.polys.specialpolys.interpolating_poly(len(times),x,times,conc))"
   ]
  }
 ],
 "metadata": {
  "kernelspec": {
   "display_name": "vchempyI",
   "language": "python",
   "name": "python3"
  },
  "language_info": {
   "codemirror_mode": {
    "name": "ipython",
    "version": 3
   },
   "file_extension": ".py",
   "mimetype": "text/x-python",
   "name": "python",
   "nbconvert_exporter": "python",
   "pygments_lexer": "ipython3",
   "version": "3.10.12"
  }
 },
 "nbformat": 4,
 "nbformat_minor": 2
}
