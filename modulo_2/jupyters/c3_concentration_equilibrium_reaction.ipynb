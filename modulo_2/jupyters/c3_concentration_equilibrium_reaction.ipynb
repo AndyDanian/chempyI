{
 "cells": [
  {
   "cell_type": "markdown",
   "metadata": {},
   "source": [
    "# Module 2 - Problem 3: Concentration in Equilibrium Reaction\n",
    "\n",
    "This program calculate the concentration of the substance in an equilibrium reaction from the reactives concentration before the reaction start. This program only work with reactions which have two reactives an two products"
   ]
  },
  {
   "cell_type": "code",
   "execution_count": 1,
   "metadata": {},
   "outputs": [],
   "source": [
    "import numpy as np"
   ]
  },
  {
   "cell_type": "code",
   "execution_count": 10,
   "metadata": {},
   "outputs": [],
   "source": [
    "def input_mol_concent() -> [list[str], list[float], float]:\n",
    "\n",
    "    molecules: list[str] = []\n",
    "    concent_react: list[str] = []\n",
    "    for r in range(2):\n",
    "        molecules.append(input(f\"what is the {r+1} reactive?\" ))\n",
    "        concent_react.append(float(input(f\"what is the concentration of {molecules[r]}? \")))\n",
    "    for p in range(2):\n",
    "        molecules.append(input(f\"what is the {p+1} product?\" ))\n",
    "\n",
    "    K: float = float(input(\"what is the equilibrium constant?\" ))\n",
    "    \n",
    "    return molecules, concent_react, K"
   ]
  },
  {
   "cell_type": "code",
   "execution_count": 16,
   "metadata": {},
   "outputs": [],
   "source": [
    "def cofficients(concent: list[float], K: float) -> list[float]:\n",
    "\n",
    "    a: float = K - 1.\n",
    "    b: float = K * (concent[0] + concent[1])\n",
    "    c: float = K * (concent[0] * concent[1])\n",
    "\n",
    "    return [a, -b, c]"
   ]
  },
  {
   "cell_type": "code",
   "execution_count": 5,
   "metadata": {},
   "outputs": [],
   "source": [
    "def concentrations(concent_react, roots):\n",
    "\n",
    "    equi_concent: list[list[float]] = []\n",
    "    for r in roots:\n",
    "        equi_concent.append([concent_react[0]-r,concent_react[1]-r,r,r])\n",
    "    return equi_concent"
   ]
  },
  {
   "cell_type": "code",
   "execution_count": 11,
   "metadata": {},
   "outputs": [],
   "source": [
    "molecules, concent_react, K = input_mol_concent()"
   ]
  },
  {
   "cell_type": "code",
   "execution_count": 17,
   "metadata": {},
   "outputs": [],
   "source": [
    "coeffiecients = cofficients(concent_react, K)"
   ]
  },
  {
   "cell_type": "code",
   "execution_count": 31,
   "metadata": {},
   "outputs": [],
   "source": [
    "roots: list[float] = np.roots(coeffiecients)      "
   ]
  },
  {
   "cell_type": "code",
   "execution_count": 32,
   "metadata": {},
   "outputs": [],
   "source": [
    "temp_roots: list[float] = []\n",
    "for count, r in enumerate(roots):\n",
    "    if r < concent_react[0] and r < concent_react[1]:\n",
    "        temp_roots.append(r)\n",
    "roots = temp_roots"
   ]
  },
  {
   "cell_type": "code",
   "execution_count": 38,
   "metadata": {},
   "outputs": [],
   "source": [
    "equ_conc = concentrations(concent_react, roots)"
   ]
  },
  {
   "cell_type": "code",
   "execution_count": 45,
   "metadata": {},
   "outputs": [
    {
     "name": "stdout",
     "output_type": "stream",
     "text": [
      "CH3COOH  +  CH3COOH  =  CH3COOC2H5  +  H2O\n",
      "Equilibrium Concentrations: \n",
      "CH3COOH: 0.033\n",
      "C2H5OH: 7.033\n",
      "CH3COOC2H5: 0.967\n",
      "H2O: 0.967\n"
     ]
    }
   ],
   "source": [
    "print(f\"{molecules[0]}  +  {molecules[0]}  =  {molecules[2]}  +  {molecules[3]}\")\n",
    "print(\"Equilibrium Concentrations: \")\n",
    "for conc in equ_conc:\n",
    "    for m, c in zip(molecules, conc):\n",
    "        print(f\"{m}: {np.round(c,3)}\")\n"
   ]
  },
  {
   "cell_type": "markdown",
   "metadata": {},
   "source": [
    "CH3COOH  +  CH3COOH  =  CH3COOC2H5  +  H2O\n",
    "init:\n",
    "K = 4\n",
    "[CH3COOH] = 1\n",
    "[CH3COOH] = 8\n",
    "x = [0.967,11.03]"
   ]
  }
 ],
 "metadata": {
  "kernelspec": {
   "display_name": "vchempyI",
   "language": "python",
   "name": "python3"
  },
  "language_info": {
   "codemirror_mode": {
    "name": "ipython",
    "version": 3
   },
   "file_extension": ".py",
   "mimetype": "text/x-python",
   "name": "python",
   "nbconvert_exporter": "python",
   "pygments_lexer": "ipython3",
   "version": "3.10.12"
  }
 },
 "nbformat": 4,
 "nbformat_minor": 2
}
