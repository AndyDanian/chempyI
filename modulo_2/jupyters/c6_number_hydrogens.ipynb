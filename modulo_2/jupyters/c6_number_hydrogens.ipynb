{
 "cells": [
  {
   "cell_type": "markdown",
   "metadata": {},
   "source": [
    "# Module 2 - Problem 6: Number of Hydrogens in a H NMR sign"
   ]
  },
  {
   "cell_type": "code",
   "execution_count": 1,
   "metadata": {},
   "outputs": [],
   "source": [
    "import csv\n",
    "\n",
    "import numpy as np\n",
    "import scipy as sp"
   ]
  },
  {
   "cell_type": "code",
   "execution_count": 6,
   "metadata": {},
   "outputs": [],
   "source": [
    "def polynom(ppm: list[float], intensities: list[float], order: int) -> np.polynomial.polynomial.Polynomial:\n",
    "    return np.polynomial.Polynomial.fit(ppm, intensities, deg = order).convert()"
   ]
  },
  {
   "cell_type": "code",
   "execution_count": 32,
   "metadata": {},
   "outputs": [],
   "source": [
    "def polynom_scipy(ppm: list[float], intensities: list[float], order: int) -> sp.interpolate._fitpack2.UnivariateSpline:\n",
    "    return sp.interpolate.UnivariateSpline(x = ppm, y = intensities, k=order)"
   ]
  },
  {
   "cell_type": "code",
   "execution_count": 37,
   "metadata": {},
   "outputs": [],
   "source": [
    "# /home/danian/udemy/chempyI/src/m2/pick.csv\n",
    "path: str = input(\"where is the csv file with chemical shifts vs intensities?\")\n",
    "# Open CSV File\n",
    "with open(path, \"r\") as f:\n",
    "    # Save information in Reader Variable\n",
    "    ppm_int: list[list[str, str]] = list(csv.reader(f))"
   ]
  },
  {
   "cell_type": "code",
   "execution_count": 39,
   "metadata": {},
   "outputs": [],
   "source": [
    "ppm: list[float] = [float(p[0]) for p in ppm_int]\n",
    "intensities: list[float] = [float(i[1]) for i in ppm_int]"
   ]
  },
  {
   "cell_type": "code",
   "execution_count": 9,
   "metadata": {},
   "outputs": [],
   "source": [
    "order: int = int(input(\"what is the order of polynomial to interpolate the values and integrate?\"))"
   ]
  },
  {
   "cell_type": "code",
   "execution_count": 40,
   "metadata": {},
   "outputs": [],
   "source": [
    "np_polynomial = polynom(ppm, intensities, order)\n",
    "sp_polynomial = polynom_scipy(ppm, intensities, order)"
   ]
  },
  {
   "cell_type": "code",
   "execution_count": 41,
   "metadata": {},
   "outputs": [
    {
     "name": "stdout",
     "output_type": "stream",
     "text": [
      "The amount of H associated to the sign with a polynomial of 3 and methology quad is around:\n",
      "    - NumPy Interpolation: 4.8\n",
      "    - SciPy Interpolation: 4.8\n"
     ]
    }
   ],
   "source": [
    "# integration\n",
    "np_amount_H_quad: float = sp.integrate.quad(np_polynomial,ppm[0],ppm[-1])[0]\n",
    "sp_amount_H_quad: float = sp.integrate.quad(sp_polynomial,ppm[0],ppm[-1])[0]\n",
    "print(f\"The amount of H associated to the sign with a polynomial of {order} and methology quad is around:\")\n",
    "print(f\"    - NumPy Interpolation: {round(np_amount_H_quad,1)}\")\n",
    "print(f\"    - SciPy Interpolation: {round(sp_amount_H_quad,1)}\")"
   ]
  },
  {
   "cell_type": "code",
   "execution_count": 36,
   "metadata": {},
   "outputs": [
    {
     "name": "stdout",
     "output_type": "stream",
     "text": [
      "The amount of H associated to the sign with a polynomial of 3 and methology romberg is around:\n",
      "    -NumPy Interpolation: 4.8\n",
      "    -SciPy Interpolation: 4.8\n"
     ]
    },
    {
     "name": "stderr",
     "output_type": "stream",
     "text": [
      "/tmp/ipykernel_24488/2238796767.py:1: DeprecationWarning: `scipy.integrate.romberg` is deprecated as of SciPy 1.12.0and will be removed in SciPy 1.15.0. Please use`scipy.integrate.quad` instead.\n",
      "  np_amount_H_romberg: float = sp.integrate.romberg(np_polynomial,ppm[0],ppm[-1])\n",
      "/tmp/ipykernel_24488/2238796767.py:2: DeprecationWarning: `scipy.integrate.romberg` is deprecated as of SciPy 1.12.0and will be removed in SciPy 1.15.0. Please use`scipy.integrate.quad` instead.\n",
      "  sp_amount_H_romberg: float = sp.integrate.romberg(sp_polynomial,ppm[0],ppm[-1])\n"
     ]
    }
   ],
   "source": [
    "np_amount_H_romberg: float = sp.integrate.romberg(np_polynomial,ppm[0],ppm[-1])\n",
    "sp_amount_H_romberg: float = sp.integrate.romberg(sp_polynomial,ppm[0],ppm[-1])\n",
    "print(f\"The amount of H associated to the sign with a polynomial of {order} and methology romberg is around:\")\n",
    "print(f\"    -NumPy Interpolation: {round(np_amount_H_romberg,1)}\")\n",
    "print(f\"    -SciPy Interpolation: {round(sp_amount_H_romberg,1)}\")"
   ]
  },
  {
   "cell_type": "code",
   "execution_count": 28,
   "metadata": {},
   "outputs": [
    {
     "name": "stdout",
     "output_type": "stream",
     "text": [
      "The amount of H associated to the sign with a polynomial of 3 and methology trapezoid is around: 4.8\n"
     ]
    }
   ],
   "source": [
    "amount_H_trapezoid: float = sp.integrate.trapezoid(intensities,ppm)\n",
    "print(f\"The amount of H associated to the sign with a polynomial of {order} and methology trapezoid is around: {round(amount_H_trapezoid,1)}\")"
   ]
  },
  {
   "cell_type": "code",
   "execution_count": 81,
   "metadata": {},
   "outputs": [
    {
     "name": "stdout",
     "output_type": "stream",
     "text": [
      "The amount of H associated to the sign with a polynomial of 2 and methology simpson is around: 4.9\n"
     ]
    }
   ],
   "source": [
    "amount_H_simpson: float = sp.integrate.simpson(y=intensities,x=ppm) #the positional argument is DeprecationWarning in simpson\n",
    "print(f\"The amount of H associated to the sign with a polynomial of {order} and methology simpson is around: {round(amount_H_romberg,1)}\")"
   ]
  }
 ],
 "metadata": {
  "kernelspec": {
   "display_name": "vchempyI",
   "language": "python",
   "name": "python3"
  },
  "language_info": {
   "codemirror_mode": {
    "name": "ipython",
    "version": 3
   },
   "file_extension": ".py",
   "mimetype": "text/x-python",
   "name": "python",
   "nbconvert_exporter": "python",
   "pygments_lexer": "ipython3",
   "version": "3.10.12"
  }
 },
 "nbformat": 4,
 "nbformat_minor": 2
}
