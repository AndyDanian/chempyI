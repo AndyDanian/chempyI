{
 "cells": [
  {
   "cell_type": "markdown",
   "metadata": {},
   "source": [
    "# Module 2 - Problem 7: Pressure Vapor Minimum "
   ]
  },
  {
   "cell_type": "code",
   "execution_count": 1,
   "metadata": {},
   "outputs": [],
   "source": [
    "import csv\n",
    "\n",
    "import scipy as sp"
   ]
  },
  {
   "cell_type": "code",
   "execution_count": 13,
   "metadata": {},
   "outputs": [],
   "source": [
    "def polynom(temperatures: list[float], pressures: list[float], order: int) -> sp.interpolate._fitpack2.UnivariateSpline:\n",
    "    return sp.interpolate.UnivariateSpline(x = temperatures, y = pressures, k=order)"
   ]
  },
  {
   "cell_type": "code",
   "execution_count": 14,
   "metadata": {},
   "outputs": [],
   "source": [
    "# /home/danian/udemy/chempyI/src/m2/temperatures_pressures.csv\n",
    "path: str = input(\"where is the csv file with temperatures [K] vs vapor pressures [K]?\")\n",
    "# Open CSV File\n",
    "with open(path, \"r\") as f:\n",
    "    # Save information in Reader Variable\n",
    "    temp_pres: list[list[str, str]] = list(csv.reader(f))"
   ]
  },
  {
   "cell_type": "code",
   "execution_count": 29,
   "metadata": {},
   "outputs": [],
   "source": [
    "temperatures: list[float] = [float(temp_pres[-1-p][0]) for p in range(len(temp_pres))]\n",
    "pressures: list[float] = [float(temp_pres[-1-i][1]) for i in range(len(temp_pres))]"
   ]
  },
  {
   "cell_type": "code",
   "execution_count": 30,
   "metadata": {},
   "outputs": [],
   "source": [
    "order: int = int(input(\"what is the order [1:5] of polynomial to interpolate the values and integrate?\"))"
   ]
  },
  {
   "cell_type": "code",
   "execution_count": 31,
   "metadata": {},
   "outputs": [],
   "source": [
    "polynomial = polynom(temperatures, pressures, order)"
   ]
  },
  {
   "cell_type": "code",
   "execution_count": 71,
   "metadata": {},
   "outputs": [
    {
     "name": "stdout",
     "output_type": "stream",
     "text": [
      "The minimum of vapor pressures is 1989.78 Pa and it is got at 324.1 K\n"
     ]
    }
   ],
   "source": [
    "minimum_T: sp.optimize._optimize.OptimizeResult = sp.optimize.minimize(polynomial,0.)\n",
    "minimum_P: float = float(polynomial(minimum_T.x[0]))\n",
    "print(f\"The minimum of vapor pressures is {round(minimum_P,2)} Pa and it is got at {round(minimum_T.x[0],2)} K\")"
   ]
  },
  {
   "cell_type": "code",
   "execution_count": 80,
   "metadata": {},
   "outputs": [
    {
     "name": "stdout",
     "output_type": "stream",
     "text": [
      "The interpolation at 360.0 K, is:\n",
      "3866.4226228877897\n",
      "The extrapolation at 320.0 K, is:\n",
      "2240.8072791402624\n",
      "The extrapolation at 400.0 K, is:\n",
      "5464.279338119872\n"
     ]
    }
   ],
   "source": [
    "loop: int = 0\n",
    "while loop == 0:\n",
    "    value: float = float(input(\"what is the temperature for the interpolation or extrapolation?\"))\n",
    "    if value >= temperatures[0] and value <= temperatures[-1]:\n",
    "        print(f\"The interpolation at {value} K, is:\")\n",
    "    else:\n",
    "        print(f\"The extrapolation at {value} K, is:\")\n",
    "    print(polynomial(value))\n",
    "\n",
    "    temp: str = input(\"if you want to stop calculation, entrer a integer different to 0\")\n",
    "    if temp.isnumeric():\n",
    "        loop = int(temp)"
   ]
  }
 ],
 "metadata": {
  "kernelspec": {
   "display_name": "vchempyI",
   "language": "python",
   "name": "python3"
  },
  "language_info": {
   "codemirror_mode": {
    "name": "ipython",
    "version": 3
   },
   "file_extension": ".py",
   "mimetype": "text/x-python",
   "name": "python",
   "nbconvert_exporter": "python",
   "pygments_lexer": "ipython3",
   "version": "3.10.12"
  }
 },
 "nbformat": 4,
 "nbformat_minor": 2
}
