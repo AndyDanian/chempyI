{
 "cells": [
  {
   "cell_type": "markdown",
   "id": "d5aff956",
   "metadata": {
    "slideshow": {
     "slide_type": "slide"
    }
   },
   "source": [
    "<!DOCTYPE html>\n",
    "<html>\n",
    "<body>\n",
    "\n",
    "\n",
    "<center><h1 style=\"color: #87CEEB;\" > 📉 <strong>Matplotlib</strong> 📊 </h1></center>\n",
    "\n",
    "<ul>\n",
    "<li><h2>Wave page: <a href=\"https://matplotlib.org/\">https://matplotlib.org/</a> </h2><br></li>\n",
    "<li><h2><a href=\"https://matplotlib.org/stable/users/installing/index.html\">Install:</a></h2></li>\n",
    "    <ul>\n",
    "    <li> <h2><strong>pip:</strong></h2>\n",
    "        <h3>&#36; pip install matplotlib</h3>\n",
    "        </li>\n",
    "    <li><h2><strong>conda:</strong></h2> \n",
    "        <h3>&#36; conda install -c conda-forge matplotlib</h3>\n",
    "        </li>\n",
    "    </ul>\n",
    "</ul>\n",
    "\n",
    "</body>\n",
    "</html>"
   ]
  },
  {
   "cell_type": "markdown",
   "id": "ee0b657f",
   "metadata": {
    "slideshow": {
     "slide_type": "subslide"
    }
   },
   "source": [
    "<!DOCTYPE html>\n",
    "<html>\n",
    "<body>\n",
    "\n",
    "\n",
    "<center><h1 style=\"color: #87CEEB;\" > 📉 <strong>Matplotlib</strong> 📊 </h1></center>\n",
    "\n",
    "<h2><strong><a href=\"https://matplotlib.org/stable/users/project/citing.html\">Cite:</a></strong></h2>\n",
    "    \n",
    "<h3>J. D. Hunter, \"Matplotlib: A 2D Graphics Environment\", Computing in Science & Engineering, vol. 9, no. 3, pp. 90-95, 2007.</h3>\n",
    "\n",
    "<h2><strong><a href=\"https://matplotlib.org/stable/users/project/license.html\">License:</a></strong></h2>\n",
    "    \n",
    "<h3> BSD & PSF </h3>\n",
    "    \n",
    "</body>\n",
    "</html>"
   ]
  },
  {
   "cell_type": "markdown",
   "id": "5549f367",
   "metadata": {},
   "source": []
  }
 ],
 "metadata": {
  "celltoolbar": "Slideshow",
  "kernelspec": {
   "display_name": "Python 3 (ipykernel)",
   "language": "python",
   "name": "python3"
  },
  "language_info": {
   "codemirror_mode": {
    "name": "ipython",
    "version": 3
   },
   "file_extension": ".py",
   "mimetype": "text/x-python",
   "name": "python",
   "nbconvert_exporter": "python",
   "pygments_lexer": "ipython3",
   "version": "3.10.12"
  },
  "rise": {
   "scroll": true,
   "start_slideshow_at": "beginning"
  }
 },
 "nbformat": 4,
 "nbformat_minor": 5
}
