{
 "cells": [
  {
   "cell_type": "markdown",
   "metadata": {},
   "source": [
    "# Module 2 - Problem 6: Number of Hydrogens in a H NMR sign"
   ]
  },
  {
   "cell_type": "code",
   "execution_count": 1,
   "metadata": {},
   "outputs": [],
   "source": [
    "import csv\n",
    "\n",
    "import numpy as np\n",
    "import scipy as sp"
   ]
  },
  {
   "cell_type": "code",
   "execution_count": 33,
   "metadata": {},
   "outputs": [],
   "source": [
    "# /home/danian/udemy/chempyI/src/m2/pick.csv\n",
    "path: str = input(\"where is the csv file with chemical shifts vs intensities?\")"
   ]
  },
  {
   "cell_type": "code",
   "execution_count": 47,
   "metadata": {},
   "outputs": [],
   "source": [
    "# Open CSV File\n",
    "with open(path, \"r\") as f:\n",
    "    # Save information in Reader Variable\n",
    "    ppm_int: list[list[str, str]] = list(csv.reader(f))"
   ]
  },
  {
   "cell_type": "code",
   "execution_count": 52,
   "metadata": {},
   "outputs": [],
   "source": [
    "def polynom(ppm: list[float], intensities: list[float], order: int) -> np.polynomial.polynomial.Polynomial:\n",
    "    return np.polynomial.Polynomial.fit(ppm, intensities, deg = order).convert()"
   ]
  },
  {
   "cell_type": "code",
   "execution_count": 45,
   "metadata": {},
   "outputs": [],
   "source": [
    "ppm: list[float] = [float(p[0]) for p in ppm_int]\n",
    "intensities: list[float] = [float(i[1]) for i in ppm_int]"
   ]
  },
  {
   "cell_type": "code",
   "execution_count": 65,
   "metadata": {},
   "outputs": [],
   "source": [
    "order: int = int(input(\"what is the order of polynomial to interpolate the values and integrate?\"))"
   ]
  },
  {
   "cell_type": "code",
   "execution_count": 68,
   "metadata": {},
   "outputs": [
    {
     "name": "stdout",
     "output_type": "stream",
     "text": [
      "The amount of H associated to the sign with a polynomial of 2 is: 4.9\n"
     ]
    }
   ],
   "source": [
    "# integration\n",
    "amount_H_quad: float = sp.integrate.quad(polynom(ppm, intensities, order),ppm[0],ppm[-1])[0]\n",
    "print(f\"The amount of H associated to the sign with a polynomial of {order} and methology quad is around: {round(amount_H_quad,1)}\")"
   ]
  },
  {
   "cell_type": "code",
   "execution_count": 74,
   "metadata": {},
   "outputs": [
    {
     "name": "stdout",
     "output_type": "stream",
     "text": [
      "The amount of H associated to the sign with a polynomial of 2 and methology romberg is around: 4.9\n"
     ]
    },
    {
     "name": "stderr",
     "output_type": "stream",
     "text": [
      "/tmp/ipykernel_78085/77417397.py:1: DeprecationWarning: `scipy.integrate.romberg` is deprecated as of SciPy 1.12.0and will be removed in SciPy 1.15.0. Please use`scipy.integrate.quad` instead.\n",
      "  amount_H_romberg: float = sp.integrate.romberg(polynom(ppm,intensities,order),ppm[0],ppm[-1])\n"
     ]
    }
   ],
   "source": [
    "amount_H_romberg: float = sp.integrate.romberg(polynom(ppm,intensities,order),ppm[0],ppm[-1])\n",
    "print(f\"The amount of H associated to the sign with a polynomial of {order} and methology romberg is around: {round(amount_H_romberg,1)}\")"
   ]
  },
  {
   "cell_type": "code",
   "execution_count": 77,
   "metadata": {},
   "outputs": [
    {
     "name": "stdout",
     "output_type": "stream",
     "text": [
      "The amount of H associated to the sign with a polynomial of 2 and methology trapezoid is around: 4.9\n"
     ]
    }
   ],
   "source": [
    "amount_H_trapezoid: float = sp.integrate.trapezoid(intensities,ppm)\n",
    "print(f\"The amount of H associated to the sign with a polynomial of {order} and methology trapezoid is around: {round(amount_H_romberg,1)}\")"
   ]
  },
  {
   "cell_type": "code",
   "execution_count": 81,
   "metadata": {},
   "outputs": [
    {
     "name": "stdout",
     "output_type": "stream",
     "text": [
      "The amount of H associated to the sign with a polynomial of 2 and methology simpson is around: 4.9\n"
     ]
    }
   ],
   "source": [
    "amount_H_simpson: float = sp.integrate.simpson(y=intensities,x=ppm) #the positional argument is DeprecationWarning in simpson\n",
    "print(f\"The amount of H associated to the sign with a polynomial of {order} and methology simpson is around: {round(amount_H_romberg,1)}\")"
   ]
  }
 ],
 "metadata": {
  "kernelspec": {
   "display_name": "vchempyI",
   "language": "python",
   "name": "python3"
  },
  "language_info": {
   "codemirror_mode": {
    "name": "ipython",
    "version": 3
   },
   "file_extension": ".py",
   "mimetype": "text/x-python",
   "name": "python",
   "nbconvert_exporter": "python",
   "pygments_lexer": "ipython3",
   "version": "3.10.12"
  }
 },
 "nbformat": 4,
 "nbformat_minor": 2
}
