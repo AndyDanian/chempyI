{
 "cells": [
  {
   "cell_type": "markdown",
   "metadata": {},
   "source": [
    "# Module 2 - Problem 9: Formation or descomposition rate"
   ]
  },
  {
   "cell_type": "code",
   "execution_count": 5,
   "metadata": {},
   "outputs": [],
   "source": [
    "import csv\n",
    "\n",
    "import sympy as smp\n",
    "from sympy.abc import x"
   ]
  },
  {
   "cell_type": "code",
   "execution_count": 14,
   "metadata": {},
   "outputs": [],
   "source": [
    "def interpolate_sympy(values: list[tuple[float]]) -> smp.core.add.Add:\n",
    "    return smp.polys.polyfuncs.interpolate(values,x)"
   ]
  },
  {
   "cell_type": "code",
   "execution_count": 7,
   "metadata": {},
   "outputs": [],
   "source": [
    "molecule: str = input(\"what is the molecule of interest?\")\n",
    "reactive: str = input(f\"which type is the {molecule} in reaction, reactive o product [r/p]?\")"
   ]
  },
  {
   "cell_type": "code",
   "execution_count": 38,
   "metadata": {},
   "outputs": [],
   "source": [
    "# /home/danian/udemy/chempyI/src/m2/formation_rate.csv\n",
    "path: str = input(f\"where is the csv file with the times [h] vs concentrarion [mol/L] {molecule}?\")"
   ]
  },
  {
   "cell_type": "code",
   "execution_count": 39,
   "metadata": {},
   "outputs": [],
   "source": [
    "# Open CSV File\n",
    "with open(path, \"r\") as f:\n",
    "    # Save information in Reader Variable\n",
    "    amounts: list[float] = list(csv.reader(f))\n",
    "values: list[tuple[float]] = [(float(a[0]),float(a[1])) for a in amounts]"
   ]
  },
  {
   "cell_type": "code",
   "execution_count": 43,
   "metadata": {},
   "outputs": [
    {
     "name": "stdout",
     "output_type": "stream",
     "text": [
      "[1.99413304542035e-51, 2.13821176807376e-49, 1.26992673329437e-45, -2.62323072521606e-42, 1.71043611594259e-39, -2.73302436566182e-37, 1.35416949214728e-35, -2.23407873548919e-32, 2.31727890908672e-30, -8.51969777638693e-28, 6.94702467573832e-26, -2.74003577908190e-24, -1.48892510259545e-22, -2.13875819181711e-20, 1.45012040569936e-18, -6.93889390390723e-18, 8.60422844084496e-16, -2.35367281220533e-14, 6.50146603220492e-13, -3.86535248253495e-12, 3.31965566147119e-11, 0.199999999898864, 0.250000000000000]\n"
     ]
    }
   ],
   "source": [
    "polynomial = interpolate_sympy(values)\n",
    "print(smp.poly(polynomial).all_coeffs())"
   ]
  },
  {
   "cell_type": "code",
   "execution_count": 48,
   "metadata": {},
   "outputs": [],
   "source": [
    "times = [t[0] for t in values]\n",
    "conc = [t[1] for t in values]"
   ]
  },
  {
   "cell_type": "code",
   "execution_count": 50,
   "metadata": {},
   "outputs": [
    {
     "data": {
      "text/latex": [
       "$\\displaystyle 1.99413304542035 \\cdot 10^{-51} x^{22} + 2.13821176807376 \\cdot 10^{-49} x^{21} + 1.26992673329437 \\cdot 10^{-45} x^{20} - 2.62323072521606 \\cdot 10^{-42} x^{19} + 1.71043611594259 \\cdot 10^{-39} x^{18} - 2.73302436566182 \\cdot 10^{-37} x^{17} + 1.35416949214728 \\cdot 10^{-35} x^{16} - 2.23407873548919 \\cdot 10^{-32} x^{15} + 2.31727890908672 \\cdot 10^{-30} x^{14} - 8.51969777638693 \\cdot 10^{-28} x^{13} + 6.94702467573832 \\cdot 10^{-26} x^{12} - 2.7400357790819 \\cdot 10^{-24} x^{11} - 1.48892510259545 \\cdot 10^{-22} x^{10} - 2.13875819181711 \\cdot 10^{-20} x^{9} + 1.45012040569936 \\cdot 10^{-18} x^{8} - 6.93889390390723 \\cdot 10^{-18} x^{7} + 8.60422844084496 \\cdot 10^{-16} x^{6} - 2.35367281220533 \\cdot 10^{-14} x^{5} + 6.50146603220492 \\cdot 10^{-13} x^{4} - 3.86535248253495 \\cdot 10^{-12} x^{3} + 3.31965566147119 \\cdot 10^{-11} x^{2} + 0.199999999898864 x + 0.25$"
      ],
      "text/plain": [
       "1.99413304542035e-51*x**22 + 2.13821176807376e-49*x**21 + 1.26992673329437e-45*x**20 - 2.62323072521606e-42*x**19 + 1.71043611594259e-39*x**18 - 2.73302436566182e-37*x**17 + 1.35416949214728e-35*x**16 - 2.23407873548919e-32*x**15 + 2.31727890908672e-30*x**14 - 8.51969777638693e-28*x**13 + 6.94702467573832e-26*x**12 - 2.7400357790819e-24*x**11 - 1.48892510259545e-22*x**10 - 2.13875819181711e-20*x**9 + 1.45012040569936e-18*x**8 - 6.93889390390723e-18*x**7 + 8.60422844084496e-16*x**6 - 2.35367281220533e-14*x**5 + 6.50146603220492e-13*x**4 - 3.86535248253495e-12*x**3 + 3.31965566147119e-11*x**2 + 0.199999999898864*x + 0.25"
      ]
     },
     "execution_count": 50,
     "metadata": {},
     "output_type": "execute_result"
    }
   ],
   "source": [
    "smp.simplify(smp.polys.specialpolys.interpolating_poly(len(times),x,times,conc))"
   ]
  },
  {
   "cell_type": "code",
   "execution_count": 17,
   "metadata": {},
   "outputs": [
    {
     "name": "stdout",
     "output_type": "stream",
     "text": [
      "<class 'sympy.core.add.Add'> -9.27484669110618e-43*x**21 + 2.24551209976512e-39*x**20 - 2.55212508302997e-36*x**19 + 1.80991085878149e-33*x**18 - 8.97944158120181e-31*x**17 + 3.3118042117939e-28*x**16 - 9.4189930362709e-26*x**15 + 2.1147429272966e-23*x**14 - 3.80603910072585e-21*x**13 + 5.54462763757705e-19*x**12 - 6.57430870380336e-17*x**11 + 6.35769625416271e-15*x**10 - 5.00912589993763e-13*x**9 + 3.20214864361377e-11*x**8 - 1.64855122709654e-9*x**7 + 6.75803173353634e-8*x**6 - 2.17036871737565e-6*x**5 + 5.33669381600674e-5*x**4 - 0.00097229280510892*x**3 + 0.0125035830712911*x**2 - 0.105112146790573*x + 0.503640660768137\n"
     ]
    }
   ],
   "source": [
    "rate = smp.diff(polynomial)\n",
    "print(type(rate),rate)"
   ]
  }
 ],
 "metadata": {
  "kernelspec": {
   "display_name": "vchempyI",
   "language": "python",
   "name": "python3"
  },
  "language_info": {
   "codemirror_mode": {
    "name": "ipython",
    "version": 3
   },
   "file_extension": ".py",
   "mimetype": "text/x-python",
   "name": "python",
   "nbconvert_exporter": "python",
   "pygments_lexer": "ipython3",
   "version": "3.10.12"
  }
 },
 "nbformat": 4,
 "nbformat_minor": 2
}
