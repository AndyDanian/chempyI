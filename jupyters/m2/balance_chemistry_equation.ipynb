{
 "cells": [
  {
   "cell_type": "markdown",
   "metadata": {},
   "source": [
    "# Module 2 - Problem 1: Balancing a Chemical Reaction\n",
    "\n",
    "This problem consists in look for the coefficients to balance the chemical reaction with the solution a set of lineal equation\n",
    "\n",
    "                        X = A⁻¹b\n",
    "Where:\n",
    "        A is a square matrix with the amount of the atoms in each molecule\n",
    "        b is a vector\n",
    "        X is a vector with the coefficients to balance the chemical reaction"
   ]
  },
  {
   "cell_type": "code",
   "execution_count": 142,
   "metadata": {},
   "outputs": [],
   "source": [
    "from sys import path\n",
    "\n",
    "path.append(\"../../src/m1\")\n",
    "\n",
    "import numpy as np\n",
    "from atomic_mass_percentage import split_symbols_amount, molecular_mass\n"
   ]
  },
  {
   "cell_type": "code",
   "execution_count": 40,
   "metadata": {},
   "outputs": [],
   "source": [
    "def input_substance(num_react: int, num_prod: int) -> list[str]:\n",
    "\n",
    "    list_react_prod: list[str] = []\n",
    "    for r in range(num_react):\n",
    "        list_react_prod.append(input(f\"what is the {r+1} reactive?\"))\n",
    "\n",
    "    for p in range(num_prod):\n",
    "        list_react_prod.append(input(f\"what is the {p+1} product?\"))\n",
    "\n",
    "    return list_react_prod"
   ]
  },
  {
   "cell_type": "code",
   "execution_count": 31,
   "metadata": {},
   "outputs": [],
   "source": [
    "def molecule_composition(molecule: list) -> dict[str : int]:\n",
    "    for m in molecule:\n",
    "        yield split_symbols_amount(m)"
   ]
  },
  {
   "cell_type": "code",
   "execution_count": 73,
   "metadata": {},
   "outputs": [],
   "source": [
    "def matrix_amount_atom(atoms: set[str], comp_react_prod: list[dict[str : int]], num_r: int) -> np.array:\n",
    "\n",
    "    matrix_amount_atoms: list[list[int]] = []\n",
    "    for a in atoms:            \n",
    "        temp: list[int] = []\n",
    "        for count, molecule in enumerate(comp_react_prod):\n",
    "            if a in molecule.keys() and count < num_r:\n",
    "                temp.append(molecule[a])\n",
    "            elif a in molecule.keys() and count >= num_r:\n",
    "                temp.append(-molecule[a])\n",
    "            else:\n",
    "                temp.append(0)\n",
    "        matrix_amount_atoms.append(temp)\n",
    "\n",
    "    return np.array(matrix_amount_atoms,dtype=np.float_)"
   ]
  },
  {
   "cell_type": "code",
   "execution_count": 148,
   "metadata": {},
   "outputs": [],
   "source": [
    "def heaviest(molecules: list[dict[str : int]]) -> int:\n",
    "\n",
    "    heaviest_index: int = 0\n",
    "    heaviest: float = 0.\n",
    "    for count, mol in enumerate(molecules):\n",
    "        mass_mol: float = molecular_mass(mol)\n",
    "        if mass_mol > heaviest:\n",
    "            heaviest = mass_mol\n",
    "            heaviest_index = count\n",
    "\n",
    "    return heaviest_index"
   ]
  },
  {
   "cell_type": "code",
   "execution_count": 146,
   "metadata": {},
   "outputs": [],
   "source": [
    "def add_row_col(matrix: np.array, heaviest: int, nrow: int, ncol: int) -> np.array:\n",
    "\n",
    "    if nrow > ncol:\n",
    "        column_add: np.array = np.array([0 if i < (nrow - 1) else 1 for i in range(nrow)], dtype=np.float_)\n",
    "        return np.column_stack((matrix, column_add))\n",
    "    else:\n",
    "        row_add: np.array = np.array([1 if i == heaviest else 0 for i in range(ncol)], dtype=np.float_)\n",
    "        return np.r_[matrix,[row_add]]\n"
   ]
  },
  {
   "cell_type": "code",
   "execution_count": 95,
   "metadata": {},
   "outputs": [],
   "source": [
    "def balance(mat_comp_mol: np.array, coef_result: np.array) -> np.array:\n",
    "\n",
    "    return np.linalg.solve(mat_comp_mol, coef_result)"
   ]
  },
  {
   "cell_type": "code",
   "execution_count": 153,
   "metadata": {},
   "outputs": [],
   "source": [
    "num_react: int = int(input(\"how many reactives are there? \"))\n",
    "num_prod: int = int(input(\"how many products are there? \"))\n",
    "list_react_prod = input_substance(num_react,num_prod)"
   ]
  },
  {
   "cell_type": "code",
   "execution_count": 154,
   "metadata": {},
   "outputs": [],
   "source": [
    "comp_react_prod: list[dict[str : int]] = [comp for comp in molecule_composition(list_react_prod)]"
   ]
  },
  {
   "cell_type": "code",
   "execution_count": 155,
   "metadata": {},
   "outputs": [],
   "source": [
    "atoms: set[str] = {atom for molecule in comp_react_prod[:num_react] for atom in molecule.keys()}\n",
    "matrix_amount_atoms = matrix_amount_atom(atoms, comp_react_prod, num_react)"
   ]
  },
  {
   "cell_type": "code",
   "execution_count": 156,
   "metadata": {},
   "outputs": [
    {
     "name": "stdout",
     "output_type": "stream",
     "text": [
      "The matrix with amount of the atoms is not square:  3 x 4\n",
      "Then, is add one row in the last\n"
     ]
    }
   ],
   "source": [
    "row, col = matrix_amount_atoms.shape\n",
    "if row == col:\n",
    "    print(f\"The matrix with amount of the atoms is square:  {row} x {col}\")\n",
    "    m_square_amount_atoms = matrix_amount_atoms\n",
    "    coef_result: np.array = np.array([0 for i in range(row)], dtype=np.float_)\n",
    "else:\n",
    "    print(f\"The matrix with amount of the atoms is not square:  {row} x {col}\")\n",
    "    message: str = 'col'\n",
    "    n: int = row\n",
    "    if col > row:\n",
    "        message = 'row'\n",
    "        n = col\n",
    "    \n",
    "    print(f\"Then, is add one {message} in the last\")\n",
    "    heaviest_molecule = heaviest(comp_react_prod)\n",
    "    \n",
    "    m_square_amount_atoms = add_row_col(matrix_amount_atoms, heaviest_molecule, row, col)\n",
    "\n",
    "    coef_result: np.array = np.array([0 if i < (n-1) else 1 for i in range(n)], dtype=np.float_)"
   ]
  },
  {
   "cell_type": "code",
   "execution_count": 158,
   "metadata": {},
   "outputs": [
    {
     "name": "stdout",
     "output_type": "stream",
     "text": [
      "Balance coeffecients from reactives to products: [6. 6. 1. 6.]\n"
     ]
    }
   ],
   "source": [
    "balance_coeff = balance(m_square_amount_atoms,coef_result)\n",
    "print(f\"Balance coeffecients from reactives to products: {balance_coeff}\")"
   ]
  },
  {
   "cell_type": "code",
   "execution_count": 159,
   "metadata": {},
   "outputs": [
    {
     "name": "stdout",
     "output_type": "stream",
     "text": [
      "6.0 CO2 + 6.0 H2O -->  C6H12O6 + 6.0 O2 "
     ]
    }
   ],
   "source": [
    "for count, molecule in enumerate(list_react_prod):\n",
    "    bc: str = ''\n",
    "    if balance_coeff[count] > 1:\n",
    "        bc = str(balance_coeff[count])\n",
    "    print(bc + \" \" + molecule, end=\" \")\n",
    "    if count < num_react - 1 or count >= num_react and count < num_react + num_prod - 1:\n",
    "        print(\"+\",end=\" \")\n",
    "    if count == num_react - 1:\n",
    "        print(\"-->\", end=\" \")"
   ]
  },
  {
   "cell_type": "markdown",
   "metadata": {},
   "source": [
    "try:\n",
    "    * C2H5OH + 3O2 --> 2CO2 + 3H2O\n",
    "    * Na2CO3 + 4C + N2 --> 2NaCN + 3CO\n",
    "    * CO2 + H2O  -->  C6H12O6 + O2\n",
    "    * FeS2 + O2  -->  Fe2O3 + SO2"
   ]
  }
 ],
 "metadata": {
  "kernelspec": {
   "display_name": "vchempyI",
   "language": "python",
   "name": "python3"
  },
  "language_info": {
   "codemirror_mode": {
    "name": "ipython",
    "version": 3
   },
   "file_extension": ".py",
   "mimetype": "text/x-python",
   "name": "python",
   "nbconvert_exporter": "python",
   "pygments_lexer": "ipython3",
   "version": "3.10.12"
  }
 },
 "nbformat": 4,
 "nbformat_minor": 2
}
