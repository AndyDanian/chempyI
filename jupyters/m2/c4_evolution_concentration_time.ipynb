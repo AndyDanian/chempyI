{
 "cells": [
  {
   "cell_type": "markdown",
   "metadata": {},
   "source": [
    "# Module 2 - Problem 4: Concentration evolution in the time"
   ]
  },
  {
   "cell_type": "code",
   "execution_count": 1,
   "metadata": {},
   "outputs": [],
   "source": [
    "import numpy as np"
   ]
  },
  {
   "cell_type": "code",
   "execution_count": 6,
   "metadata": {},
   "outputs": [],
   "source": [
    "def input_values(number: int) -> [list[float],list[float]]:\n",
    "\n",
    "    concentrations: list[float] = [ ]\n",
    "    times: list[float] = [ ]\n",
    "    for i in range(number):\n",
    "        concentrations.append(float(input(f\"what is the concentration {i+1}? \")))\n",
    "        times.append(float(input(f\"what is the time of concentration {i+1}? \")))\n",
    "    \n",
    "    return concentrations, times"
   ]
  },
  {
   "cell_type": "code",
   "execution_count": 9,
   "metadata": {},
   "outputs": [],
   "source": [
    "def interpolation(concentrations: list[float], times: list[float], order: int) -> np.polynomial.polynomial.Polynomial:\n",
    "\n",
    "    return np.polynomial.Polynomial.fit(times, concentrations, deg = order)"
   ]
  },
  {
   "cell_type": "code",
   "execution_count": 7,
   "metadata": {},
   "outputs": [],
   "source": [
    "number: int = int(input(\"how many concentratios will you enter? \"))\n",
    "concentrations, times = input_values(number)"
   ]
  },
  {
   "cell_type": "code",
   "execution_count": 3,
   "metadata": {},
   "outputs": [],
   "source": [
    "#/home/danian/udemy/chempyI/src/m2/concentrations_times.csv\n",
    "path: str = input(\"where is the csv file path with concentrations and times?\")\n",
    "concentrations_times: np.array = np.genfromtxt(path, delimiter=',', skip_header=1)"
   ]
  },
  {
   "cell_type": "code",
   "execution_count": 6,
   "metadata": {},
   "outputs": [],
   "source": [
    "concentrations: list[float] = []\n",
    "times: list[float] = []\n",
    "for ct in concentrations_times:\n",
    "    concentrations.append(ct[0])\n",
    "    times.append(ct[1])"
   ]
  },
  {
   "cell_type": "code",
   "execution_count": 7,
   "metadata": {},
   "outputs": [],
   "source": [
    "order: int = int(input(\"what is the order of the interpolations? \"))"
   ]
  },
  {
   "cell_type": "code",
   "execution_count": 10,
   "metadata": {},
   "outputs": [
    {
     "name": "stdout",
     "output_type": "stream",
     "text": [
      "Polynomio of order 3 after the interpolation of times and concentrations\n",
      "10.0 + 25.0·x + 5.2·x² - 1.0·x³\n"
     ]
    }
   ],
   "source": [
    "# convert is to join all values with same potentia \n",
    "polynomio = interpolation(concentrations, times, order).convert()\n",
    "print(f\"Polynomio of order {order} after the interpolation of times and concentrations\")\n",
    "print(polynomio)"
   ]
  },
  {
   "cell_type": "code",
   "execution_count": 11,
   "metadata": {},
   "outputs": [
    {
     "name": "stdout",
     "output_type": "stream",
     "text": [
      "Concentration in the time 5.0 is 140.0\n"
     ]
    }
   ],
   "source": [
    "follow: int = 0\n",
    "while follow == 0:\n",
    "    t: float = float(input(\"time to interpolate of concentration: \"))\n",
    "    print(f\"Concentration in the time {t} is {round(polynomio(t),1)}\")\n",
    "    temp: str = input(\"if you want to stop calculation, entrer a integer different to 0\")\n",
    "    if temp.isnumeric():\n",
    "        follow = int(temp)\n"
   ]
  },
  {
   "cell_type": "markdown",
   "metadata": {},
   "source": [
    "times = [1.0, 4.0, 6.0, 7.0, 8.0]\n",
    "concentration = [39.2, 129.2, 131.2, 96.8, 30.8]\n",
    "order = 3\n",
    "10.0 + 25.0·x + 5.2·x² - 1.0·x³\n",
    "Concentration in the time 5.0 is 140.0\n",
    "Concentration in the time 7.2 is 86.3"
   ]
  }
 ],
 "metadata": {
  "kernelspec": {
   "display_name": "vchempyI",
   "language": "python",
   "name": "python3"
  },
  "language_info": {
   "codemirror_mode": {
    "name": "ipython",
    "version": 3
   },
   "file_extension": ".py",
   "mimetype": "text/x-python",
   "name": "python",
   "nbconvert_exporter": "python",
   "pygments_lexer": "ipython3",
   "version": "3.10.12"
  }
 },
 "nbformat": 4,
 "nbformat_minor": 2
}
