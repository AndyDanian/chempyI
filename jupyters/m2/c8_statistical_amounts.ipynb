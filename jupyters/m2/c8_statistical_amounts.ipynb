{
 "cells": [
  {
   "cell_type": "markdown",
   "metadata": {},
   "source": [
    "# Module 2 - Problem 8: Statistical of Amounts"
   ]
  },
  {
   "cell_type": "code",
   "execution_count": 14,
   "metadata": {},
   "outputs": [],
   "source": [
    "import csv\n",
    "\n",
    "import scipy as sp"
   ]
  },
  {
   "cell_type": "code",
   "execution_count": 15,
   "metadata": {},
   "outputs": [],
   "source": [
    "quantity: str = input(\"what will the quantity be to do the statistical analysis?\")"
   ]
  },
  {
   "cell_type": "code",
   "execution_count": 21,
   "metadata": {},
   "outputs": [],
   "source": [
    "# /home/danian/udemy/chempyI/src/m2/statistical_amount.csv\n",
    "path: str = input(f\"where is the csv file with the information of {quantity}?\")\n",
    "# Open CSV File\n",
    "with open(path, \"r\") as f:\n",
    "    # Save information in Reader Variable\n",
    "    values: list[float] = list(csv.reader(f))\n",
    "amounts: list[float] = [float(v[0]) for v in values]"
   ]
  },
  {
   "cell_type": "code",
   "execution_count": 5,
   "metadata": {},
   "outputs": [],
   "source": [
    "# generating 100 random data for volumens from 0 to 50\n",
    "amounts: list[float] = sp.stats.uniform(0,50).rvs(100)"
   ]
  },
  {
   "cell_type": "code",
   "execution_count": 22,
   "metadata": {},
   "outputs": [
    {
     "name": "stdout",
     "output_type": "stream",
     "text": [
      "Statistical values of volumens\n",
      "Mean: 23.4877817215\n",
      "Geometric mean: 15.468743248504719\n",
      "Harmonic mean: 3.738617331370143\n",
      "Standard deviation: 14.426713712264856\n",
      "Minimum: 0.17123244\n",
      "Maximum: 49.56705219\n",
      "Skewness: -0.006953315208654183\n",
      "Kurtosis - Fisher/Pearson: -0.9796507566034038\n",
      "Coefficient of variation: 0.6064956904025254\n"
     ]
    }
   ],
   "source": [
    "print(f\"Statistical values of {quantity}\")\n",
    "print(f\"Mean: {sp.stats.tmean(amounts)}\")\n",
    "print(f\"Geometric mean: {sp.stats.gmean(amounts)}\")\n",
    "print(f\"Harmonic mean: {sp.stats.hmean(amounts)}\")\n",
    "print(f\"Standard deviation: {sp.stats.tstd(amounts)}\")\n",
    "print(f\"Minimum: {sp.stats.tmin(amounts)}\")\n",
    "print(f\"Maximum: {sp.stats.tmax(amounts)}\")\n",
    "print(f\"Skewness: {sp.stats.skew(amounts)}\")\n",
    "print(f\"Kurtosis - Fisher/Pearson: {sp.stats.kurtosis(amounts)}\")\n",
    "print(f\"Coefficient of variation: {sp.stats.variation(amounts)}\")"
   ]
  },
  {
   "cell_type": "code",
   "execution_count": 24,
   "metadata": {},
   "outputs": [
    {
     "name": "stdout",
     "output_type": "stream",
     "text": [
      "Student’s t-test of volumens: (array([ 0.,  0.,  0.,  0.,  0.,  0., inf,  0.,  0.,  0., inf,  0.,  0.,\n",
      "        0.,  0.,  0.,  0.,  0.,  0.,  0.,  0.,  0.,  0.,  0.,  0.,  0.,\n",
      "        0.,  0.,  0.,  0.,  0.,  0.,  0.,  0.,  0.,  0.,  0.,  0.,  0.,\n",
      "        0.]), array([1.0795507 , 1.04276549, 1.93007513, 1.09882853, 1.18575011,\n",
      "       1.06368791,        nan, 1.13603958, 1.05767546, 1.06072029,\n",
      "              nan, 1.06502916, 1.06944784, 1.05459259, 1.0677409 ,\n",
      "              inf, 1.08559737, 1.06264027, 1.16760289, 1.11463389,\n",
      "       1.05298444, 1.11489813, 1.04204591, 1.05344144,        inf,\n",
      "       1.06908117, 1.07808123, 1.14132531, 1.08121778, 1.04357289,\n",
      "       1.17601513, 1.17789902, 1.04650095, 2.66323155, 1.08483104,\n",
      "       1.0951706 , 1.31876787, 1.24354126, 1.86010394, 1.07426752]))\n"
     ]
    }
   ],
   "source": [
    "print(f\"Student’s t-test of {quantity}: {sp.stats.t.stats(amounts)}\") "
   ]
  }
 ],
 "metadata": {
  "kernelspec": {
   "display_name": "vchempyI",
   "language": "python",
   "name": "python3"
  },
  "language_info": {
   "codemirror_mode": {
    "name": "ipython",
    "version": 3
   },
   "file_extension": ".py",
   "mimetype": "text/x-python",
   "name": "python",
   "nbconvert_exporter": "python",
   "pygments_lexer": "ipython3",
   "version": "3.10.12"
  }
 },
 "nbformat": 4,
 "nbformat_minor": 2
}
