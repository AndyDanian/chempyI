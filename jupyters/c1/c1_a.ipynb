{
 "cells": [
  {
   "cell_type": "code",
   "execution_count": 3,
   "metadata": {},
   "outputs": [],
   "source": [
    "from sys import path\n",
    "path.append('../../src/')"
   ]
  },
  {
   "cell_type": "code",
   "execution_count": 23,
   "metadata": {},
   "outputs": [],
   "source": [
    "# import module with the atomic number and atomic mass\n",
    "from atomic_number_mass import atomic_number_mass as Zm"
   ]
  },
  {
   "cell_type": "markdown",
   "metadata": {},
   "source": [
    "# Build Dictionary\n",
    "Build a dictionary form information in a input file with csv extension"
   ]
  },
  {
   "cell_type": "code",
   "execution_count": 22,
   "metadata": {},
   "outputs": [
    {
     "name": "stdout",
     "output_type": "stream",
     "text": [
      "{'Arginine': ['      0.16', '   174.20', '        Arg', '        R', '       C6H14N4O2'], 'Asparagine': ['     0.21', '   132.12', '        Asn', '        N', '       C4H8N2O3'], 'Aspartic Acid': ['   0.24', '   133.10', '        Asp', '        D', '        C4H7NO4'], 'Cysteine': ['      0.37', '   121.16', '        Cys', '        C', '       C3H7NO2S'], 'Glutamic Acid': ['   0.31', '   147.13', '        Glu', '        E', '        C5H9NO4'], 'Glutamine': ['      0.25', '   146.14', '        Gln', '        Q', '       C5H10N2O3'], 'Glycine': ['       0.25', '    75.07', '        Gly', '        G', '        C2H5NO2'], 'Histidine': ['      0.12', '   155.15', '        His', '        H', '       C6H9N3O2'], 'Isoleucine': ['     0.53', '   131.17', '        Lle', '        I', '       C6H13NO2'], 'Leucine': ['       0.61', '   131.18', '        Leu', '        L', '       C6H13NO2'], 'Lysine': ['       0.12', '   146.19', '        Lys', '        K', '       C6H14N2O2'], 'Methionine': ['     0.51', '   149.21', '        Met', '        M', '       C5H11NO2S'], 'Phenylalanine': ['  0.62', '   165.19', '        Phe', '        F', '       C9H11NO2'], 'Proline': ['      0.24', '   115.13', '        Pro', '        P', '        C5H9NO2'], 'Serine': ['       0.26', '   105.09', '        Ser', '        S', '        C3H7NO3'], 'Threonine': ['     0.30', '   119.12', '        Thr', '        T', '        C4H9NO3'], 'Tryptophan': ['    0.61', '   204.23', '        Trp', '        W', '       C11H12NO3'], 'Tyrosine': ['     0.55', '   181.19', '        Tyr', '        Y', '       C9H11NO3'], 'Valine': ['      0.44', '   117.15', '        Val', '        V', '        C5H11NO2']}\n"
     ]
    }
   ],
   "source": [
    "import csv\n",
    "with open(\"../../src/amino_acids.csv\", \"r\") as f:\n",
    "    reader = list(csv.reader(f))\n",
    "amino_acids: dict[str:list[str,float]] = {x[1].strip():x[2:-1] for count, x in enumerate(reader) if count > 1}\n",
    "print(amino_acids)"
   ]
  },
  {
   "cell_type": "markdown",
   "metadata": {},
   "source": [
    "# Porcentage Mass\n",
    "Calculate the porcentage of mass of each type of atom in a molecular formule"
   ]
  },
  {
   "cell_type": "code",
   "execution_count": 3,
   "metadata": {},
   "outputs": [],
   "source": [
    "def split_symbols_amount(mol_formule: str):\n",
    "    \"\"\"\n",
    "    build a dictionary with the atomic symbols and amount\n",
    "    for each atom\n",
    "                {atomic_symbol: amount, ...}\n",
    "    \"\"\"\n",
    "    atomic_symbols: list[str] = []\n",
    "    atoms_amount_tmp: list[str] = []\n",
    "    for abc in mol_formule:\n",
    "        if abc.isupper(): # is the string capitalize\n",
    "            atoms_amount_tmp.append('')\n",
    "            atomic_symbols.append(abc)\n",
    "        if abc.islower(): # is not the string capitalize\n",
    "            atomic_symbols[-1] += abc\n",
    "        if abc.isnumeric(): # is the string a number\n",
    "            atoms_amount_tmp[-1] += abc\n",
    "    # convert string to int and transform '' to 1\n",
    "    atoms_amount: list[int] = [int(i) if i != '' else 1 for i in atoms_amount_tmp]\n",
    "    # build a dictionary where the keys is the atomic symbols while the value is equal 0  \n",
    "    composition: dict[str:int] = {symbol:0 for symbol in atomic_symbols}\n",
    "    # remplace 0 by the amount of atoms in the molecular formule \n",
    "    for symbol, amount in zip(atomic_symbols, atoms_amount):\n",
    "        composition[symbol] += amount\n",
    "    return composition"
   ]
  },
  {
   "cell_type": "code",
   "execution_count": 4,
   "metadata": {},
   "outputs": [
    {
     "data": {
      "text/plain": [
       "{'C': 4, 'H': 10, 'O': 2}"
      ]
     },
     "execution_count": 4,
     "metadata": {},
     "output_type": "execute_result"
    }
   ],
   "source": [
    "split_symbols_amount(\"C4H8O2H2\")"
   ]
  },
  {
   "cell_type": "code",
   "execution_count": 6,
   "metadata": {},
   "outputs": [],
   "source": [
    "def molecular_mass(composition: dict[str:int]):\n",
    "    # calcula of molecular mass\n",
    "    molecular_mass: float = 0.\n",
    "    for symbol, amount in composition.items():\n",
    "        molecular_mass += amount*Zm[symbol][1]\n",
    "    return molecular_mass"
   ]
  },
  {
   "cell_type": "code",
   "execution_count": 8,
   "metadata": {},
   "outputs": [
    {
     "data": {
      "text/plain": [
       "18.013"
      ]
     },
     "execution_count": 8,
     "metadata": {},
     "output_type": "execute_result"
    }
   ],
   "source": [
    "molecular_mass({\"H\":2,\"O\":1})"
   ]
  },
  {
   "cell_type": "code",
   "execution_count": 10,
   "metadata": {},
   "outputs": [
    {
     "name": "stdout",
     "output_type": "stream",
     "text": [
      "Atomic mass % of C is 53.316\n",
      "Atomic mass % of H is 11.175\n",
      "Atomic mass % of O is 35.509\n"
     ]
    }
   ],
   "source": [
    "composition: dict[str:int] = split_symbols_amount(\"C4H8O2H2\")\n",
    "molar_mass: float = molecular_mass(composition)\n",
    "for symbol, amount in composition.items():\n",
    "        print(f\"Atomic mass % of {symbol} is {round(amount*Zm[symbol][1]*100/molar_mass,3)}\")\n"
   ]
  },
  {
   "cell_type": "markdown",
   "metadata": {},
   "source": [
    "# Ideal Gas\n",
    "Calculate the volumen, temperature, presion or mass of ideal gas"
   ]
  },
  {
   "cell_type": "code",
   "execution_count": 11,
   "metadata": {},
   "outputs": [],
   "source": [
    "import constants\n",
    "# Constants\n",
    "R = constants.constants[\"R\"]\n",
    "N = constants.constants[\"N\"]"
   ]
  },
  {
   "cell_type": "code",
   "execution_count": 12,
   "metadata": {},
   "outputs": [],
   "source": [
    "# Input by user\n",
    "def read_temperature():\n",
    "    return float(input(\"temperature in kelvin of the ideal gas: \"))\n",
    "def read_mass():\n",
    "    return float(input(\"massa in g of the ideal gas: \"))\n",
    "def read_presion():\n",
    "    return float(input(\"presion in atm of the ideal gas: \"))\n",
    "def read_volumen():\n",
    "    return float(input(\"volumen in L of the ideal gas: \"))\n",
    "\n",
    "# Calculate\n",
    "def calculate_amount(calculate: str, molar_mass: float):\n",
    "    \"\"\"\n",
    "    Calculate the amount ask and also, return its units\n",
    "    \"\"\"\n",
    "    if calculate.lower != \"t\":\n",
    "        T: float = read_temperature()\n",
    "    if calculate.lower() != \"p\":\n",
    "        P: float = read_presion()\n",
    "    if calculate.lower() != \"m\":\n",
    "        m: float = read_mass()\n",
    "    if calculate.lower() != \"v\":\n",
    "        v: float = read_volumen()\n",
    "    if calculate.lower() == \"v\":\n",
    "        message = \"the volumen\"\n",
    "        amount = m/molar_mass*T*R/P\n",
    "        unit = \"L\"\n",
    "    elif calculate.lower() == \"p\":\n",
    "        message = \"the presion\"\n",
    "        amount = m/molar_mass*T*R/v\n",
    "        unit = \"atm\"\n",
    "    elif calculate.lower() == \"t\":\n",
    "        message = \"the temperature\"\n",
    "        amount = v*molar_mass/m*P/R\n",
    "        unit = \"k\"\n",
    "    else:\n",
    "        message = \"the mass\"\n",
    "        amount = v*molar_mass*P/(T*R)\n",
    "        unit = \"g\"    \n",
    "    if calculate.lower() == \"m\":\n",
    "        m = amount\n",
    "    nmolecules: float = m/molar_mass*N\n",
    "    return message, amount, unit, nmolecules"
   ]
  },
  {
   "cell_type": "code",
   "execution_count": 13,
   "metadata": {},
   "outputs": [
    {
     "name": "stdout",
     "output_type": "stream",
     "text": [
      "the volumen in the ideal gas is the 0.6952961864124679 L\n",
      "amount the molecules: 3.6448120804962925e+22\n"
     ]
    }
   ],
   "source": [
    "molar_mass = molecular_mass(split_symbols_amount(\"C2H8O2H2\"))\n",
    "calculate = input(\"what amount does it calculate [v/m/T/P]?\")\n",
    "\n",
    "# Calculate\n",
    "message, amount, unit, nmolecules = calculate_amount(calculate,molar_mass)\n",
    "\n",
    "# Print results\n",
    "print(f\"{message} in the ideal gas is the {amount} {unit}\")\n",
    "print(f\"amount the molecules: {nmolecules}\")"
   ]
  }
 ],
 "metadata": {
  "kernelspec": {
   "display_name": "vchempyI",
   "language": "python",
   "name": "python3"
  },
  "language_info": {
   "codemirror_mode": {
    "name": "ipython",
    "version": 3
   },
   "file_extension": ".py",
   "mimetype": "text/x-python",
   "name": "python",
   "nbconvert_exporter": "python",
   "pygments_lexer": "ipython3",
   "version": "3.10.12"
  }
 },
 "nbformat": 4,
 "nbformat_minor": 2
}
