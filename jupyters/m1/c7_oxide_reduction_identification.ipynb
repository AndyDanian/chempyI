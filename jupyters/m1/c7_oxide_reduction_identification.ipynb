{
 "cells": [
  {
   "cell_type": "markdown",
   "metadata": {},
   "source": [
    "# Module 1 - Problem 5: Oxide-Reduction Identification\n",
    "\n",
    "Indetify the substances that is oxidized from the reduced of a reaction with two reactives and two products.\n",
    "Moreover, the oxidation number of the same atom in the both reactives or products should be equal. This program\n",
    "can also calculate the oxidation number of one atom in a molecule\n",
    "\n",
    "    * Input reactants and products with their charges\n",
    "    * Input oxidation numbers\n",
    "        * Calculate of oxidation number\n",
    "    * Electronic movement\n",
    "    * Classify the substance in reducing and oxidizing agents\n",
    "\n",
    "Notes:\n",
    "\n",
    "    * Oxidation number: is a virtual charge belong to an atom whether every bonds are ionic\n",
    "        * An atom of free element has an oxidation number equal to 0, example, each atom in Cl2\n",
    "        * An monoatomic ion has an oxidation number equal to the charge\n",
    "        * Alkali metals in a molecule always have an oxidation number equal to 1\n",
    "        * Alkali earth metals in a molecule always have an oxidation number equal to 2\n",
    "        * Fluorine in compounds has an oxidation number equal to -1\n",
    "        * Hydrogen in compoinds has an oxidation number equal to 1 except in molecules with\n",
    "          metals because in these substances its oxidation number equal to -1, example, NaH\n",
    "        * Oxygen atom has an oxidation number equal to -2 except in the peroxide because \n",
    "          in this substance its oxidation number is equal to -1\n",
    "        * Other halogens have an oxidation number equal to -1 but in molecules with oxygen\n",
    "          or fluorine its oxidation number change, example, ClO4- the Cl is 7"
   ]
  },
  {
   "cell_type": "code",
   "execution_count": 2,
   "metadata": {},
   "outputs": [],
   "source": [
    "from sys import path\n",
    "\n",
    "path.append(\"../../src/m1\")\n",
    "\n",
    "from atomic_mass_percentage import split_symbols_amount"
   ]
  },
  {
   "cell_type": "code",
   "execution_count": 5,
   "metadata": {},
   "outputs": [],
   "source": [
    "def input_substance() -> [str, int]:\n",
    "    reactive_a: str = input(\"what is the first reactive and its charge?\")\n",
    "    r_charge_a: int = int(input(f\"what is the charge of the {reactive_a}?\"))\n",
    "\n",
    "    reactive_b: str = input(\"what is the second reactive and its charge?\")\n",
    "    r_charge_b: int = int(input(f\"what is the charge of the {reactive_b}?\"))\n",
    "\n",
    "    product_a: str = input(\"what is the first product and its charge?\")\n",
    "    p_charge_a: int = int(input(f\"what is the charge of the {product_a}?\"))\n",
    "\n",
    "    product_b: str = input(\"what is the second product and its charge?\")\n",
    "    p_charge_b: int = int(input(f\"what is the charge of the {product_b}?\"))\n",
    "\n",
    "    return (\n",
    "        reactive_a,\n",
    "        r_charge_a,\n",
    "        reactive_b,\n",
    "        r_charge_b,\n",
    "        product_a,\n",
    "        p_charge_a,\n",
    "        product_b,\n",
    "        p_charge_b,\n",
    "    )"
   ]
  },
  {
   "cell_type": "code",
   "execution_count": 12,
   "metadata": {},
   "outputs": [],
   "source": [
    "def calculate_oxidation_number(\n",
    "    molecule_composition: dict[str:int], oxidation_number: dict[str:int], charge: int\n",
    ") -> dict[str:int]:\n",
    "    for atom, no in oxidation_number.items():\n",
    "        if no == 999:\n",
    "            oxidation_number[atom] = charge - sum(\n",
    "                [\n",
    "                    on * na\n",
    "                    for na, on in zip(\n",
    "                        molecule_composition.values(), oxidation_number.values()\n",
    "                    )\n",
    "                    if on != 999\n",
    "                ]\n",
    "            )\n",
    "\n",
    "    return oxidation_number"
   ]
  },
  {
   "cell_type": "code",
   "execution_count": 14,
   "metadata": {},
   "outputs": [],
   "source": [
    "def input_oxidation_number(\n",
    "    molecule_composition: dict[str:int], molecule: str, charge: int\n",
    ") -> dict[str:int]:\n",
    "    oxidation_number: dict[str:int] = {}\n",
    "    for atom in molecule_composition.keys():\n",
    "        oxidation_number[atom] = int(\n",
    "            input(f\"what is the oxidation number of atom {atom} in {molecule}? \")\n",
    "        )\n",
    "\n",
    "    if 999 in oxidation_number.values():\n",
    "        oxidation_number = calculate_oxidation_number(\n",
    "            molecule_composition, oxidation_number, charge\n",
    "        )\n",
    "\n",
    "    return oxidation_number"
   ]
  },
  {
   "cell_type": "code",
   "execution_count": 8,
   "metadata": {},
   "outputs": [],
   "source": [
    "def oxide_reduction(\n",
    "    react: dict[str:int], prod: dict[str:int], mol_a: str, mol_b: str\n",
    ") -> dict[str:int]:\n",
    "    oxidation_numbers: dict[str:int] = {}\n",
    "    for atr, onr in react.items():\n",
    "        if atr in prod.keys():\n",
    "            if prod[atr] > onr:\n",
    "                print(\n",
    "                    f\"The atom {atr} oxidizes when pass from {mol_a} to {mol_b} ({onr}-->{prod[atr]})\"\n",
    "                )\n",
    "                oxidation_numbers[atr] = [prod[atr] - onr]\n",
    "                oxidation_numbers[\"Oxidize\"] = True\n",
    "            elif prod[atr] == onr:\n",
    "                print(\n",
    "                    f\"The atom {atr} doesn't suffer oxide-reduction reaction  when pass from {mol_a} to {mol_b}\"\n",
    "                )\n",
    "            else:\n",
    "                print(\n",
    "                    f\"The atom {atr} reduces when pass from {mol_a} to {mol_b} ({onr}-->{prod[atr]})\"\n",
    "                )\n",
    "                oxidation_numbers[atr] = [onr - prod[atr]]\n",
    "                oxidation_numbers[\"Oxidize\"] = False\n",
    "    return oxidation_numbers"
   ]
  },
  {
   "cell_type": "code",
   "execution_count": null,
   "metadata": {},
   "outputs": [],
   "source": [
    "(\n",
    "    reactive_a,\n",
    "    r_charge_a,\n",
    "    reactive_b,\n",
    "    r_charge_b,\n",
    "    product_a,\n",
    "    p_charge_a,\n",
    "    product_b,\n",
    "    p_charge_b,\n",
    ") = input_substance()"
   ]
  },
  {
   "cell_type": "code",
   "execution_count": 9,
   "metadata": {},
   "outputs": [],
   "source": [
    "reactive_a = \"HNO3\"\n",
    "reactive_b = \"Sn\"\n",
    "product_a = \"H2SnO3\"\n",
    "product_b = \"NO\"\n",
    "r_charge_a = r_charge_b = p_charge_a = p_charge_b = 0"
   ]
  },
  {
   "cell_type": "code",
   "execution_count": 17,
   "metadata": {},
   "outputs": [
    {
     "name": "stdout",
     "output_type": "stream",
     "text": [
      "if you unknown the oxidation number, please input 999 and the program calculate it (only maximum one atom by molecule)\n",
      "Number of oxidation of atoms in the HNO3: {'H': 1, 'N': 5, 'O': -2}\n",
      "Number of oxidation of atoms in the Sn: {'Sn': 0}\n",
      "Number of oxidation of atoms in the H2SnO3: {'H': 1, 'Sn': 4, 'O': -2}\n",
      "Number of oxidation of atoms in the NO: {'N': 2, 'O': -2}\n"
     ]
    }
   ],
   "source": [
    "comp_react_a = split_symbols_amount(reactive_a)\n",
    "comp_react_b = split_symbols_amount(reactive_b)\n",
    "comp_prod_a = split_symbols_amount(product_a)\n",
    "comp_prod_b = split_symbols_amount(product_b)\n",
    "\n",
    "print(\n",
    "    \"if you unknown the oxidation number, please input 999 and the program calculate it (only maximum one atom by molecule)\"\n",
    ")\n",
    "\n",
    "print(\"\\n\",\"*\"*60,\"\\n\")\n",
    "\n",
    "num_oxid_atoms_react_a = input_oxidation_number(comp_react_a, reactive_a, r_charge_a)\n",
    "num_oxid_atoms_react_b = input_oxidation_number(comp_react_b, reactive_b, r_charge_b)\n",
    "num_oxid_atoms_prod_a = input_oxidation_number(comp_prod_a, product_a, p_charge_a)\n",
    "num_oxid_atoms_prod_b = input_oxidation_number(comp_prod_b, product_b, p_charge_b)\n",
    "\n",
    "print(\"\\n\",\"*\"*60,\"\\n\")\n",
    "\n",
    "print(f\"Number of oxidation of atoms in the {reactive_a}: {num_oxid_atoms_react_a}\")\n",
    "print(f\"Number of oxidation of atoms in the {reactive_b}: {num_oxid_atoms_react_b}\")\n",
    "print(f\"Number of oxidation of atoms in the {product_a}: {num_oxid_atoms_prod_a}\")\n",
    "print(f\"Number of oxidation of atoms in the {product_b}: {num_oxid_atoms_prod_b}\")"
   ]
  },
  {
   "cell_type": "code",
   "execution_count": 18,
   "metadata": {},
   "outputs": [
    {
     "name": "stdout",
     "output_type": "stream",
     "text": [
      "The atom H doesn't suffer oxide-reduction reaction  when pass from HNO3 to H2SnO3\n",
      "The atom O doesn't suffer oxide-reduction reaction  when pass from HNO3 to H2SnO3\n",
      "The atom N reduces when pass from HNO3 to NO (5-->2)\n",
      "The atom O doesn't suffer oxide-reduction reaction  when pass from HNO3 to NO\n",
      "The atom Sn oxidizes when pass from Sn to H2SnO3 (0-->4)\n"
     ]
    }
   ],
   "source": [
    "print(\"\\n\",\"*\"*60,\"\\n\")\n",
    "\n",
    "nums_oxid_a_a = oxide_reduction(\n",
    "    num_oxid_atoms_react_a, num_oxid_atoms_prod_a, reactive_a, product_a\n",
    ")\n",
    "nums_oxid_a_b = oxide_reduction(\n",
    "    num_oxid_atoms_react_a, num_oxid_atoms_prod_b, reactive_a, product_b\n",
    ")\n",
    "nums_oxid_b_a = oxide_reduction(\n",
    "    num_oxid_atoms_react_b, num_oxid_atoms_prod_a, reactive_b, product_a\n",
    ")\n",
    "nums_oxid_b_b = oxide_reduction(\n",
    "    num_oxid_atoms_react_b, num_oxid_atoms_prod_b, reactive_b, product_b\n",
    ")"
   ]
  }
 ],
 "metadata": {
  "kernelspec": {
   "display_name": "vchempyI",
   "language": "python",
   "name": "python3"
  },
  "language_info": {
   "codemirror_mode": {
    "name": "ipython",
    "version": 3
   },
   "file_extension": ".py",
   "mimetype": "text/x-python",
   "name": "python",
   "nbconvert_exporter": "python",
   "pygments_lexer": "ipython3",
   "version": "3.10.12"
  }
 },
 "nbformat": 4,
 "nbformat_minor": 2
}
