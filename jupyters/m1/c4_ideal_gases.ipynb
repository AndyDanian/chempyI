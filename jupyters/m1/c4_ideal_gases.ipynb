{
 "cells": [
  {
   "cell_type": "markdown",
   "metadata": {},
   "source": [
    "# Problem 2: Ideal Gases\n",
    "\n",
    "Calculate the volumen, temperature, presion or mass of ideal gases from molecular formula\n",
    "\n",
    "    * Build a dictionary with the atomic mass\n",
    "    * Separate the atomic symbol from molecular formula\n",
    "    * Identify the amount of each atom\n",
    "    * Calculate the total mass of the molecular formula\n",
    "    * Select the quantity to calculate of the ideal gas (volumen, temperature, presion or mass)\n",
    "    * Enter known quantites\n",
    "    * Calculate unknown quantites with the ideal gases' equation\n",
    "#             PV = nRT"
   ]
  },
  {
   "cell_type": "code",
   "execution_count": 1,
   "metadata": {},
   "outputs": [],
   "source": [
    "from sys import path\n",
    "path.append('../../src/')"
   ]
  },
  {
   "cell_type": "code",
   "execution_count": 2,
   "metadata": {},
   "outputs": [],
   "source": [
    "# import module with the atomic number and atomic mass\n",
    "from atomic_number_mass import atomic_number_mass as Zm"
   ]
  },
  {
   "cell_type": "code",
   "execution_count": 3,
   "metadata": {},
   "outputs": [],
   "source": [
    "def split_symbols_amount(mol_formule: str) -> dict[str:int]:\n",
    "    \"\"\"\n",
    "    build a dictionary with the atomic symbols and amount\n",
    "    for each atom\n",
    "                {atomic_symbol: amount, ...}\n",
    "    \"\"\"\n",
    "    atomic_symbols: list[str] = []\n",
    "    atoms_amount_tmp: list[str] = []\n",
    "    for abc in mol_formule:\n",
    "        if abc.isupper(): # is the string capitalize\n",
    "            atoms_amount_tmp.append('')\n",
    "            atomic_symbols.append(abc)\n",
    "        if abc.islower(): # is not the string capitalize\n",
    "            atomic_symbols[-1] += abc\n",
    "        if abc.isnumeric(): # is the string a number\n",
    "            atoms_amount_tmp[-1] += abc\n",
    "    # convert string to int and transform '' to 1\n",
    "    atoms_amount: list[int] = [int(i) if i != '' else 1 for i in atoms_amount_tmp]\n",
    "    # build a dictionary where the keys is the atomic symbols while the value is equal 0  \n",
    "    composition: dict[str:int] = {symbol:0 for symbol in atomic_symbols}\n",
    "    # remplace 0 by the amount of atoms in the molecular formule \n",
    "    for symbol, amount in zip(atomic_symbols, atoms_amount):\n",
    "        composition[symbol] += amount\n",
    "    return composition"
   ]
  },
  {
   "cell_type": "code",
   "execution_count": 4,
   "metadata": {},
   "outputs": [],
   "source": [
    "def molecular_mass(composition: dict[str:int]) -> float:\n",
    "    # calcula of molecular mass\n",
    "    molecular_mass: float = 0.\n",
    "    for symbol, amount in composition.items():\n",
    "        molecular_mass += amount*Zm[symbol][1]\n",
    "    return molecular_mass"
   ]
  },
  {
   "cell_type": "code",
   "execution_count": 5,
   "metadata": {},
   "outputs": [],
   "source": [
    "import constants\n",
    "# Constants\n",
    "R = constants.constants[\"R\"] # Ideal gases' constant\n",
    "N = constants.constants[\"N\"] # Avogadro"
   ]
  },
  {
   "cell_type": "code",
   "execution_count": 6,
   "metadata": {},
   "outputs": [],
   "source": [
    "# Ask for known quantities\n",
    "def read_temperature():\n",
    "    return float(input(\"temperature in kelvin of the ideal gas: \"))\n",
    "def read_mass():\n",
    "    return float(input(\"mass in g of the ideal gas: \"))\n",
    "def read_presion():\n",
    "    return float(input(\"presion in atm of the ideal gas: \"))\n",
    "def read_volumen():\n",
    "    return float(input(\"volumen in L of the ideal gas: \"))"
   ]
  },
  {
   "cell_type": "code",
   "execution_count": 7,
   "metadata": {},
   "outputs": [],
   "source": [
    "# Calculate unknown quantity\n",
    "def calculate_amount(calculate: str, molar_mass: float):\n",
    "    \"\"\"\n",
    "    Calculate the quantity ask and return one with its units\n",
    "    \"\"\"\n",
    "    # Enter known quantities\n",
    "    if calculate.lower != \"t\":\n",
    "        T: float = read_temperature()\n",
    "    if calculate.lower() != \"p\":\n",
    "        P: float = read_presion()\n",
    "    if calculate.lower() != \"m\":\n",
    "        m: float = read_mass()\n",
    "    if calculate.lower() != \"v\":\n",
    "        v: float = read_volumen()\n",
    "    \n",
    "    # Calculate unknwon quantity with the ideal gases' equation\n",
    "    if calculate.lower() == \"v\":\n",
    "        message: str = \"the volumen\"\n",
    "        amount: float = m/molar_mass*T*R/P\n",
    "        unit: str = \"L\"\n",
    "    elif calculate.lower() == \"p\":\n",
    "        message = \"the presion\"\n",
    "        amount = m/molar_mass*T*R/v\n",
    "        unit = \"atm\"\n",
    "    elif calculate.lower() == \"t\":\n",
    "        message = \"the temperature\"\n",
    "        amount = v*molar_mass/m*P/R\n",
    "        unit = \"k\"\n",
    "    else:\n",
    "        message = \"the mass\"\n",
    "        amount = v*molar_mass*P/(T*R)\n",
    "        unit = \"g\"    \n",
    "        m = amount\n",
    "\n",
    "    nmolecules: float = m/molar_mass*N\n",
    "    return message, amount, unit, nmolecules"
   ]
  },
  {
   "cell_type": "code",
   "execution_count": 8,
   "metadata": {},
   "outputs": [
    {
     "name": "stdout",
     "output_type": "stream",
     "text": [
      "the mass in the ideal gas is the 7.114948367480918 g\n",
      "amount the molecules: 6.4831624404754565e+22\n"
     ]
    }
   ],
   "source": [
    "# Ideal gas molecular formule (C2H8O2H2)\n",
    "idealgas = input(f\"what is the molecular formule of the ideal gas?\")\n",
    "# Molecular Mass \n",
    "molar_mass = molecular_mass(split_symbols_amount(idealgas))\n",
    "# Ask by unknown quantity \n",
    "calculate = input(f\"what amount does it calculate [v/m/T/P]?\")\n",
    "# Calculate unknown quantity\n",
    "message, amount, unit, nmolecules = calculate_amount(calculate,molar_mass)\n",
    "\n",
    "# Print results\n",
    "print(f\"{message} of the ideal gas {idealgas} is the {amount} {unit}\")\n",
    "print(f\"amount the molecules: {nmolecules}\")"
   ]
  }
 ],
 "metadata": {
  "kernelspec": {
   "display_name": "vchempyI",
   "language": "python",
   "name": "python3"
  },
  "language_info": {
   "codemirror_mode": {
    "name": "ipython",
    "version": 3
   },
   "file_extension": ".py",
   "mimetype": "text/x-python",
   "name": "python",
   "nbconvert_exporter": "python",
   "pygments_lexer": "ipython3",
   "version": "3.10.12"
  }
 },
 "nbformat": 4,
 "nbformat_minor": 2
}
