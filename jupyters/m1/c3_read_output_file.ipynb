{
 "cells": [
  {
   "cell_type": "markdown",
   "metadata": {},
   "source": [
    "# Module 1 - Problem 1: Structured Data From CSV File\n",
    "\n",
    "Build different structured data from information in external file\n",
    "\n",
    "1) Dictionary of unstructured data\n",
    "2) Dictionary of dictionaries\n",
    "3) Dictionary of lists or tuples\n",
    "4) List of list or tuples"
   ]
  },
  {
   "cell_type": "code",
   "execution_count": 2,
   "metadata": {},
   "outputs": [],
   "source": [
    "from sys import path\n",
    "\n",
    "path.append(\"../../src/\")\n",
    "import csv"
   ]
  },
  {
   "cell_type": "markdown",
   "metadata": {},
   "source": [
    "### Read information in CSV file"
   ]
  },
  {
   "cell_type": "code",
   "execution_count": 3,
   "metadata": {},
   "outputs": [],
   "source": [
    "# Open CSV File\n",
    "with open(\"../../src/amino_acids.csv\", \"r\") as f:\n",
    "    # Save information in Reader Variable\n",
    "    reader: list[list[str, float]] = list(csv.reader(f))"
   ]
  },
  {
   "cell_type": "markdown",
   "metadata": {},
   "source": [
    "### 1) Dictionary of unstructured data\n",
    "    *{name of amino acid: molar mass} \n",
    "    *{name of amino acid: molecular formule}\n",
    "    *{molar mass: molecular formule}"
   ]
  },
  {
   "cell_type": "code",
   "execution_count": 10,
   "metadata": {},
   "outputs": [
    {
     "name": "stdout",
     "output_type": "stream",
     "text": [
      "{'Arginine': 174.2, 'Asparagine': 132.12, 'Aspartic Acid': 133.1, 'Cysteine': 121.16, 'Glutamic Acid': 147.13, 'Glutamine': 146.14, 'Glycine': 75.07, 'Histidine': 155.15, 'Isoleucine': 131.17, 'Leucine': 131.18, 'Lysine': 146.19, 'Methionine': 149.21, 'Phenylalanine': 165.19, 'Proline': 115.13, 'Serine': 105.09, 'Threonine': 119.12, 'Tryptophan': 204.23, 'Tyrosine': 181.19, 'Valine': 117.15}\n"
     ]
    }
   ],
   "source": [
    "amino_acids_molar_mass: dict[str:float] = {\n",
    "    x[1].strip(): float(x[3]) for count, x in enumerate(reader) if count > 1\n",
    "}\n",
    "print(amino_acids_molar_mass)"
   ]
  },
  {
   "cell_type": "code",
   "execution_count": 8,
   "metadata": {},
   "outputs": [
    {
     "name": "stdout",
     "output_type": "stream",
     "text": [
      "{'Arginine': 'C6H14N4O2', 'Asparagine': 'C4H8N2O3', 'Aspartic Acid': 'C4H7NO4', 'Cysteine': 'C3H7NO2S', 'Glutamic Acid': 'C5H9NO4', 'Glutamine': 'C5H10N2O3', 'Glycine': 'C2H5NO2', 'Histidine': 'C6H9N3O2', 'Isoleucine': 'C6H13NO2', 'Leucine': 'C6H13NO2', 'Lysine': 'C6H14N2O2', 'Methionine': 'C5H11NO2S', 'Phenylalanine': 'C9H11NO2', 'Proline': 'C5H9NO2', 'Serine': 'C3H7NO3', 'Threonine': 'C4H9NO3', 'Tryptophan': 'C11H12NO3', 'Tyrosine': 'C9H11NO3', 'Valine': 'C5H11NO2'}\n"
     ]
    }
   ],
   "source": [
    "amino_acids_molecular_formule: dict[str:str] = {\n",
    "    x[1].strip(): x[-2].strip() for count, x in enumerate(reader) if count > 1\n",
    "}\n",
    "print(amino_acids_molecular_formule)"
   ]
  },
  {
   "cell_type": "code",
   "execution_count": 11,
   "metadata": {},
   "outputs": [
    {
     "name": "stdout",
     "output_type": "stream",
     "text": [
      "{174.2: 'C6H14N4O2', 132.12: 'C4H8N2O3', 133.1: 'C4H7NO4', 121.16: 'C3H7NO2S', 147.13: 'C5H9NO4', 146.14: 'C5H10N2O3', 75.07: 'C2H5NO2', 155.15: 'C6H9N3O2', 131.17: 'C6H13NO2', 131.18: 'C6H13NO2', 146.19: 'C6H14N2O2', 149.21: 'C5H11NO2S', 165.19: 'C9H11NO2', 115.13: 'C5H9NO2', 105.09: 'C3H7NO3', 119.12: 'C4H9NO3', 204.23: 'C11H12NO3', 181.19: 'C9H11NO3', 117.15: 'C5H11NO2'}\n"
     ]
    }
   ],
   "source": [
    "molar_mass_molecular_formule: dict[float:str] = {\n",
    "    float(x[3]): x[-2].strip() for count, x in enumerate(reader) if count > 1\n",
    "}\n",
    "print(molar_mass_molecular_formule)"
   ]
  },
  {
   "cell_type": "markdown",
   "metadata": {},
   "source": [
    "### 2) Dictionary of dictionaries\n",
    "    * {name of amino acid: {molecular formule: masa molar}}"
   ]
  },
  {
   "cell_type": "code",
   "execution_count": 13,
   "metadata": {},
   "outputs": [
    {
     "name": "stdout",
     "output_type": "stream",
     "text": [
      "{'Arginine': {'C6H14N4O2': 174.2}, 'Asparagine': {'C4H8N2O3': 132.12}, 'Aspartic Acid': {'C4H7NO4': 133.1}, 'Cysteine': {'C3H7NO2S': 121.16}, 'Glutamic Acid': {'C5H9NO4': 147.13}, 'Glutamine': {'C5H10N2O3': 146.14}, 'Glycine': {'C2H5NO2': 75.07}, 'Histidine': {'C6H9N3O2': 155.15}, 'Isoleucine': {'C6H13NO2': 131.17}, 'Leucine': {'C6H13NO2': 131.18}, 'Lysine': {'C6H14N2O2': 146.19}, 'Methionine': {'C5H11NO2S': 149.21}, 'Phenylalanine': {'C9H11NO2': 165.19}, 'Proline': {'C5H9NO2': 115.13}, 'Serine': {'C3H7NO3': 105.09}, 'Threonine': {'C4H9NO3': 119.12}, 'Tryptophan': {'C11H12NO3': 204.23}, 'Tyrosine': {'C9H11NO3': 181.19}, 'Valine': {'C5H11NO2': 117.15}}\n"
     ]
    }
   ],
   "source": [
    "aa_mf_mm: dict[str : dict[str:float]] = {\n",
    "    x[1].strip(): {x[-2].strip(): float(x[3])}\n",
    "    for count, x in enumerate(reader)\n",
    "    if count > 1\n",
    "}\n",
    "print(aa_mf_mm)"
   ]
  },
  {
   "cell_type": "markdown",
   "metadata": {},
   "source": [
    "### 3) Dictionary of lists or tuples\n",
    "    * {name of amino acid: [molecular formule, Rf, masa molar]}\n",
    "    * {name of amino acid: (molecular formule, Rf, masa molar)}"
   ]
  },
  {
   "cell_type": "code",
   "execution_count": 14,
   "metadata": {},
   "outputs": [
    {
     "name": "stdout",
     "output_type": "stream",
     "text": [
      "{'Arginine': ['C6H14N4O2', 2.0, 174.2], 'Asparagine': ['C4H8N2O3', 2.0, 132.12], 'Aspartic Acid': ['C4H7NO4', 2.0, 133.1], 'Cysteine': ['C3H7NO2S', 2.0, 121.16], 'Glutamic Acid': ['C5H9NO4', 2.0, 147.13], 'Glutamine': ['C5H10N2O3', 2.0, 146.14], 'Glycine': ['C2H5NO2', 2.0, 75.07], 'Histidine': ['C6H9N3O2', 2.0, 155.15], 'Isoleucine': ['C6H13NO2', 2.0, 131.17], 'Leucine': ['C6H13NO2', 2.0, 131.18], 'Lysine': ['C6H14N2O2', 2.0, 146.19], 'Methionine': ['C5H11NO2S', 2.0, 149.21], 'Phenylalanine': ['C9H11NO2', 2.0, 165.19], 'Proline': ['C5H9NO2', 2.0, 115.13], 'Serine': ['C3H7NO3', 2.0, 105.09], 'Threonine': ['C4H9NO3', 2.0, 119.12], 'Tryptophan': ['C11H12NO3', 2.0, 204.23], 'Tyrosine': ['C9H11NO3', 2.0, 181.19], 'Valine': ['C5H11NO2', 2.0, 117.15]}\n"
     ]
    }
   ],
   "source": [
    "aa_mf_rf_mm: dict[str : list[str, float, float]] = {\n",
    "    x[1].strip(): [x[-2].strip(), float(2), float(x[3])]\n",
    "    for count, x in enumerate(reader)\n",
    "    if count > 1\n",
    "}\n",
    "print(aa_mf_rf_mm)"
   ]
  },
  {
   "cell_type": "code",
   "execution_count": 15,
   "metadata": {},
   "outputs": [
    {
     "name": "stdout",
     "output_type": "stream",
     "text": [
      "{'Arginine': ('C6H14N4O2', 2.0, 174.2), 'Asparagine': ('C4H8N2O3', 2.0, 132.12), 'Aspartic Acid': ('C4H7NO4', 2.0, 133.1), 'Cysteine': ('C3H7NO2S', 2.0, 121.16), 'Glutamic Acid': ('C5H9NO4', 2.0, 147.13), 'Glutamine': ('C5H10N2O3', 2.0, 146.14), 'Glycine': ('C2H5NO2', 2.0, 75.07), 'Histidine': ('C6H9N3O2', 2.0, 155.15), 'Isoleucine': ('C6H13NO2', 2.0, 131.17), 'Leucine': ('C6H13NO2', 2.0, 131.18), 'Lysine': ('C6H14N2O2', 2.0, 146.19), 'Methionine': ('C5H11NO2S', 2.0, 149.21), 'Phenylalanine': ('C9H11NO2', 2.0, 165.19), 'Proline': ('C5H9NO2', 2.0, 115.13), 'Serine': ('C3H7NO3', 2.0, 105.09), 'Threonine': ('C4H9NO3', 2.0, 119.12), 'Tryptophan': ('C11H12NO3', 2.0, 204.23), 'Tyrosine': ('C9H11NO3', 2.0, 181.19), 'Valine': ('C5H11NO2', 2.0, 117.15)}\n"
     ]
    }
   ],
   "source": [
    "aa_mf_rf_mm: dict[str : tuple[str, float, float]] = {\n",
    "    x[1].strip(): (x[-2].strip(), float(2), float(x[3]))\n",
    "    for count, x in enumerate(reader)\n",
    "    if count > 1\n",
    "}\n",
    "print(aa_mf_rf_mm)"
   ]
  },
  {
   "cell_type": "markdown",
   "metadata": {},
   "source": [
    "### 4 List of lists or tuples\n",
    "    * [[name of amino acid, molecular formule, Rf, masa molar]]\n",
    "    * [(name of amino acid, molecular formule, Rf, masa molar)]"
   ]
  },
  {
   "cell_type": "code",
   "execution_count": 16,
   "metadata": {},
   "outputs": [
    {
     "name": "stdout",
     "output_type": "stream",
     "text": [
      "[['Arginine', 'C6H14N4O2', 2.0, 174.2], ['Asparagine', 'C4H8N2O3', 2.0, 132.12], ['Aspartic Acid', 'C4H7NO4', 2.0, 133.1], ['Cysteine', 'C3H7NO2S', 2.0, 121.16], ['Glutamic Acid', 'C5H9NO4', 2.0, 147.13], ['Glutamine', 'C5H10N2O3', 2.0, 146.14], ['Glycine', 'C2H5NO2', 2.0, 75.07], ['Histidine', 'C6H9N3O2', 2.0, 155.15], ['Isoleucine', 'C6H13NO2', 2.0, 131.17], ['Leucine', 'C6H13NO2', 2.0, 131.18], ['Lysine', 'C6H14N2O2', 2.0, 146.19], ['Methionine', 'C5H11NO2S', 2.0, 149.21], ['Phenylalanine', 'C9H11NO2', 2.0, 165.19], ['Proline', 'C5H9NO2', 2.0, 115.13], ['Serine', 'C3H7NO3', 2.0, 105.09], ['Threonine', 'C4H9NO3', 2.0, 119.12], ['Tryptophan', 'C11H12NO3', 2.0, 204.23], ['Tyrosine', 'C9H11NO3', 2.0, 181.19], ['Valine', 'C5H11NO2', 2.0, 117.15]]\n"
     ]
    }
   ],
   "source": [
    "aa_mf_rf_mm: list[list[str, str, float, float]] = [\n",
    "    [x[1].strip(), x[-2].strip(), float(2), float(x[3])]\n",
    "    for count, x in enumerate(reader)\n",
    "    if count > 1\n",
    "]\n",
    "print(aa_mf_rf_mm)"
   ]
  },
  {
   "cell_type": "code",
   "execution_count": 17,
   "metadata": {},
   "outputs": [
    {
     "name": "stdout",
     "output_type": "stream",
     "text": [
      "[('Arginine', 'C6H14N4O2', 2.0, 174.2), ('Asparagine', 'C4H8N2O3', 2.0, 132.12), ('Aspartic Acid', 'C4H7NO4', 2.0, 133.1), ('Cysteine', 'C3H7NO2S', 2.0, 121.16), ('Glutamic Acid', 'C5H9NO4', 2.0, 147.13), ('Glutamine', 'C5H10N2O3', 2.0, 146.14), ('Glycine', 'C2H5NO2', 2.0, 75.07), ('Histidine', 'C6H9N3O2', 2.0, 155.15), ('Isoleucine', 'C6H13NO2', 2.0, 131.17), ('Leucine', 'C6H13NO2', 2.0, 131.18), ('Lysine', 'C6H14N2O2', 2.0, 146.19), ('Methionine', 'C5H11NO2S', 2.0, 149.21), ('Phenylalanine', 'C9H11NO2', 2.0, 165.19), ('Proline', 'C5H9NO2', 2.0, 115.13), ('Serine', 'C3H7NO3', 2.0, 105.09), ('Threonine', 'C4H9NO3', 2.0, 119.12), ('Tryptophan', 'C11H12NO3', 2.0, 204.23), ('Tyrosine', 'C9H11NO3', 2.0, 181.19), ('Valine', 'C5H11NO2', 2.0, 117.15)]\n"
     ]
    }
   ],
   "source": [
    "aa_mf_rf_mm: list[tuple[str, str, float, float]] = [\n",
    "    (x[1].strip(), x[-2].strip(), float(2), float(x[3]))\n",
    "    for count, x in enumerate(reader)\n",
    "    if count > 1\n",
    "]\n",
    "print(aa_mf_rf_mm)"
   ]
  }
 ],
 "metadata": {
  "kernelspec": {
   "display_name": "vchempyI",
   "language": "python",
   "name": "python3"
  },
  "language_info": {
   "codemirror_mode": {
    "name": "ipython",
    "version": 3
   },
   "file_extension": ".py",
   "mimetype": "text/x-python",
   "name": "python",
   "nbconvert_exporter": "python",
   "pygments_lexer": "ipython3",
   "version": "3.10.12"
  }
 },
 "nbformat": 4,
 "nbformat_minor": 2
}
